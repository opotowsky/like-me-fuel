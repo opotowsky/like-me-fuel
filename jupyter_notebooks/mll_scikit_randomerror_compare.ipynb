{
 "cells": [
  {
   "cell_type": "code",
   "execution_count": 22,
   "metadata": {},
   "outputs": [],
   "source": [
    "import pandas as pd\n",
    "import numpy as np\n",
    "import matplotlib.pyplot as plt\n",
    "%matplotlib inline "
   ]
  },
  {
   "cell_type": "code",
   "execution_count": 23,
   "metadata": {},
   "outputs": [],
   "source": [
    "# color dict (use: colors['XColor'])\n",
    "\n",
    "colors = {'DBrwn' : '#8c510a', 'MBrwn' : '#d8b365', 'LBrwn' : '#f6e8c3',\n",
    "          'DTeal' : '#01665e', 'MTeal' : '#5ab4ac', 'LTeal' : '#c7eae5',\n",
    "          'DPurp' : '#762a83', 'MPurp' : '#af8dc3', 'LPurp' : '#e7d4e8'\n",
    "         }"
   ]
  },
  {
   "cell_type": "markdown",
   "metadata": {},
   "source": [
    "# MLL and Scikit Results"
   ]
  },
  {
   "cell_type": "code",
   "execution_count": 24,
   "metadata": {},
   "outputs": [],
   "source": [
    "burn = pd.read_csv('~/learn-me-fuel/results/19jan2020_15nuc/15nuc_m60_scale-last_burnup_random-error.csv')\n",
    "rxtr = pd.read_csv('~/learn-me-fuel/results/19jan2020_15nuc/15nuc_m60_scale-last_reactor_random-error.csv')\n",
    "cool = pd.read_csv('~/learn-me-fuel/results/19jan2020_15nuc/15nuc_m60_scale-last_cooling_random-error.csv')"
   ]
  },
  {
   "cell_type": "code",
   "execution_count": 25,
   "metadata": {},
   "outputs": [
    {
     "data": {
      "text/html": [
       "<div>\n",
       "<style scoped>\n",
       "    .dataframe tbody tr th:only-of-type {\n",
       "        vertical-align: middle;\n",
       "    }\n",
       "\n",
       "    .dataframe tbody tr th {\n",
       "        vertical-align: top;\n",
       "    }\n",
       "\n",
       "    .dataframe thead th {\n",
       "        text-align: right;\n",
       "    }\n",
       "</style>\n",
       "<table border=\"1\" class=\"dataframe\">\n",
       "  <thead>\n",
       "    <tr style=\"text-align: right;\">\n",
       "      <th></th>\n",
       "      <th>Unnamed: 0</th>\n",
       "      <th>Percent Error</th>\n",
       "      <th>kNN Score</th>\n",
       "      <th>kNN Std</th>\n",
       "      <th>DTree Score</th>\n",
       "      <th>DTree Std</th>\n",
       "      <th>SVR Score</th>\n",
       "      <th>SVR Std</th>\n",
       "    </tr>\n",
       "  </thead>\n",
       "  <tbody>\n",
       "    <tr>\n",
       "      <th>0</th>\n",
       "      <td>0.0</td>\n",
       "      <td>0.0</td>\n",
       "      <td>0.973450</td>\n",
       "      <td>0.005838</td>\n",
       "      <td>0.965552</td>\n",
       "      <td>0.006219</td>\n",
       "      <td>0.996303</td>\n",
       "      <td>0.00247</td>\n",
       "    </tr>\n",
       "    <tr>\n",
       "      <th>1</th>\n",
       "      <td>0.1</td>\n",
       "      <td>0.1</td>\n",
       "      <td>0.971601</td>\n",
       "      <td>0.006185</td>\n",
       "      <td>0.963198</td>\n",
       "      <td>0.006259</td>\n",
       "      <td>0.996303</td>\n",
       "      <td>0.00247</td>\n",
       "    </tr>\n",
       "    <tr>\n",
       "      <th>2</th>\n",
       "      <td>0.2</td>\n",
       "      <td>0.2</td>\n",
       "      <td>0.972105</td>\n",
       "      <td>0.005686</td>\n",
       "      <td>0.963703</td>\n",
       "      <td>0.004831</td>\n",
       "      <td>0.996303</td>\n",
       "      <td>0.00247</td>\n",
       "    </tr>\n",
       "    <tr>\n",
       "      <th>3</th>\n",
       "      <td>0.3</td>\n",
       "      <td>0.3</td>\n",
       "      <td>0.972273</td>\n",
       "      <td>0.005499</td>\n",
       "      <td>0.960846</td>\n",
       "      <td>0.009049</td>\n",
       "      <td>0.996303</td>\n",
       "      <td>0.00247</td>\n",
       "    </tr>\n",
       "    <tr>\n",
       "      <th>4</th>\n",
       "      <td>0.4</td>\n",
       "      <td>0.4</td>\n",
       "      <td>0.972273</td>\n",
       "      <td>0.005395</td>\n",
       "      <td>0.960845</td>\n",
       "      <td>0.008130</td>\n",
       "      <td>0.996135</td>\n",
       "      <td>0.00247</td>\n",
       "    </tr>\n",
       "  </tbody>\n",
       "</table>\n",
       "</div>"
      ],
      "text/plain": [
       "   Unnamed: 0  Percent Error  kNN Score   kNN Std  DTree Score  DTree Std  \\\n",
       "0         0.0            0.0   0.973450  0.005838     0.965552   0.006219   \n",
       "1         0.1            0.1   0.971601  0.006185     0.963198   0.006259   \n",
       "2         0.2            0.2   0.972105  0.005686     0.963703   0.004831   \n",
       "3         0.3            0.3   0.972273  0.005499     0.960846   0.009049   \n",
       "4         0.4            0.4   0.972273  0.005395     0.960845   0.008130   \n",
       "\n",
       "   SVR Score  SVR Std  \n",
       "0   0.996303  0.00247  \n",
       "1   0.996303  0.00247  \n",
       "2   0.996303  0.00247  \n",
       "3   0.996303  0.00247  \n",
       "4   0.996135  0.00247  "
      ]
     },
     "execution_count": 25,
     "metadata": {},
     "output_type": "execute_result"
    }
   ],
   "source": [
    "rxtr.head()"
   ]
  },
  {
   "cell_type": "code",
   "execution_count": 26,
   "metadata": {},
   "outputs": [
    {
     "data": {
      "text/plain": [
       "dict_keys(['dfTamu0', 'dfTamuRatio0', 'dfSfco0', 'dfTamu1', 'dfTamuRatio1', 'dfSfco1', 'dfTamu2', 'dfTamuRatio2', 'dfSfco2', 'dfTamu3', 'dfTamuRatio3', 'dfSfco3'])"
      ]
     },
     "execution_count": 26,
     "metadata": {},
     "output_type": "execute_result"
    }
   ],
   "source": [
    "results_path = '~/sims_n_results/nucmoles_opusupdate_aug2019/'\n",
    "tamuNoRatio_path = results_path + 'tamuNoRatio/'\n",
    "tamuRatio_path = results_path + 'tamuRatio/'\n",
    "sfco_path = results_path + 'sfco/'\n",
    "# Copied from scripts\n",
    "uncs = [0.05, 0.1, 0.15, 0.2]\n",
    "job_dirs = ['Job' + str(i) + '_unc' + str(unc) for i, unc in enumerate(uncs)]\n",
    "dfs = {}\n",
    "for i, unc_job in enumerate(job_dirs):\n",
    "    dfs['dfTamu' + str(i)] = pd.read_csv(tamuNoRatio_path + unc_job + '/' + unc_job + '.csv')\n",
    "    dfs['dfTamuRatio' + str(i)] = pd.read_csv(tamuRatio_path + unc_job + '/' + unc_job + '.csv')\n",
    "    dfs['dfSfco' + str(i)] = pd.read_csv(sfco_path + unc_job + '/' + unc_job + '.csv')\n",
    "dfs.keys()"
   ]
  },
  {
   "cell_type": "code",
   "execution_count": 27,
   "metadata": {},
   "outputs": [
    {
     "data": {
      "text/plain": [
       "Index(['Unnamed: 0', 'Unnamed: 0.1', 'sim_idx', 'ReactorType', 'CoolingTime',\n",
       "       'Enrichment', 'Burnup', 'OrigenReactor', 'pred_idx', 'pred_ReactorType',\n",
       "       'pred_CoolingTime', 'pred_Enrichment', 'pred_Burnup',\n",
       "       'pred_OrigenReactor', 'MaxLogLL', 'MaxLLUnc', '2ndMaxLogLL',\n",
       "       '2ndMaxLLUnc', 'CDF_LogLL_0.9998', 'CDF_LLUnc_0.9998',\n",
       "       'CDF_LogLL_0.9988', 'CDF_LLUnc_0.9988', 'CDF_LogLL_0.95',\n",
       "       'CDF_LLUnc_0.95', 'CDF_LogLL_0.9', 'CDF_LLUnc_0.9', 'CDF_LogLL_0.5',\n",
       "       'CDF_LLUnc_0.5', 'CDF_LogLL_0.1', 'CDF_LLUnc_0.1', 'CDF_LogLL_0.01',\n",
       "       'CDF_LLUnc_0.01', 'ReactorType_Score', 'CoolingTime_Error',\n",
       "       'Enrichment_Error', 'Burnup_Error', 'OrigenReactor_Score'],\n",
       "      dtype='object')"
      ]
     },
     "execution_count": 27,
     "metadata": {},
     "output_type": "execute_result"
    }
   ],
   "source": [
    "dfs['dfSfco1'].columns"
   ]
  },
  {
   "cell_type": "markdown",
   "metadata": {},
   "source": [
    "# Processing MLL Results"
   ]
  },
  {
   "cell_type": "code",
   "execution_count": 44,
   "metadata": {},
   "outputs": [],
   "source": [
    "def score(error, y_true):\n",
    "    return 1 - np.mean(error / y_true)"
   ]
  },
  {
   "cell_type": "code",
   "execution_count": 47,
   "metadata": {},
   "outputs": [],
   "source": [
    "tamu_rxtr = []\n",
    "ratio_rxtr = []\n",
    "tamu_burn = []\n",
    "ratio_burn = []\n",
    "tamu_cool = []\n",
    "ratio_cool = []\n",
    "for i, unc_job in enumerate(job_dirs):\n",
    "    tamu = dfs['dfTamu' + str(i)][['ReactorType_Score', 'Burnup', 'Burnup_Error', 'CoolingTime', 'CoolingTime_Error']]\n",
    "    ratio = dfs['dfTamuRatio' + str(i)][['ReactorType_Score', 'Burnup', 'Burnup_Error', 'CoolingTime', 'CoolingTime_Error']]\n",
    "    tamu_rxtr.append(tamu['ReactorType_Score'].sum() / len(tamu['ReactorType_Score']))\n",
    "    ratio_rxtr.append(ratio['ReactorType_Score'].sum() / len(ratio['ReactorType_Score']))\n",
    "    tamu_burn.append(score(tamu['Burnup_Error'], tamu['Burnup']))\n",
    "    ratio_burn.append(score(ratio['Burnup_Error'], ratio['Burnup']))\n",
    "    tamu_cool.append(score(tamu['CoolingTime_Error'], tamu['CoolingTime']))\n",
    "    ratio_cool.append(score(ratio['CoolingTime_Error'], ratio['CoolingTime']))"
   ]
  },
  {
   "cell_type": "code",
   "execution_count": 57,
   "metadata": {},
   "outputs": [
    {
     "data": {
      "text/plain": [
       "[0.9879407252699008,\n",
       " 0.9871208124244656,\n",
       " 0.9822764402990691,\n",
       " 0.9722540897119606]"
      ]
     },
     "execution_count": 57,
     "metadata": {},
     "output_type": "execute_result"
    }
   ],
   "source": [
    "ratio_burn"
   ]
  },
  {
   "cell_type": "markdown",
   "metadata": {},
   "source": [
    "# Plotting"
   ]
  },
  {
   "cell_type": "code",
   "execution_count": 61,
   "metadata": {},
   "outputs": [],
   "source": [
    "def plot_errorcurves(df, title):\n",
    "    # Scikit Results\n",
    "    err = df['Percent Error']\n",
    "    knn_mean = df['kNN Score']\n",
    "    knn_std = df['kNN Std']\n",
    "    dtr_mean = df['DTree Score']\n",
    "    dtr_std = df['DTree Std']\n",
    "    svr_mean = df['SVR Score']\n",
    "    svr_std = df['SVR Std']\n",
    "    # MLL Results\n",
    "    unc = [100*x for x in uncs]\n",
    "    if 'Reactor' in title:\n",
    "        tamu = tamu_rxtr\n",
    "        ratio = ratio_rxtr\n",
    "    elif 'Burnup' in title:\n",
    "        tamu = tamu_burn\n",
    "        ratio = ratio_burn\n",
    "    else:\n",
    "        tamu = tamu_cool\n",
    "        ratio = ratio_cool\n",
    "    \n",
    "    plt.clf()    \n",
    "    fig = plt.figure(figsize=(7,6))\n",
    "    ax = fig.add_subplot(111)\n",
    "    \n",
    "    ax.set_title(title, fontsize=20, pad=15)\n",
    "    ax.set_xlabel('Percent Error', fontsize=20, labelpad=15)\n",
    "    ax.set_ylabel('Score', fontsize=20, labelpad=15)\n",
    "    #ax.set_xlim(0, 10)\n",
    "    #ax.set_ylim(0.98, 1.001)\n",
    "    \n",
    "    ax.fill_between(err, knn_mean - knn_std, knn_mean + knn_std, color = colors['MBrwn'], alpha=0.2)\n",
    "    ax.fill_between(err, dtr_mean - dtr_std, dtr_mean + dtr_std, color = colors['MTeal'], alpha=0.2)\n",
    "    ax.fill_between(err, svr_mean - svr_std, svr_mean + svr_std, color = colors['MPurp'], alpha=0.2)\n",
    "    \n",
    "    ax.plot(err, knn_mean, 'o-', color=colors['MBrwn'], mew=0, ms=5, label=\"kNN\")\n",
    "    ax.plot(err, dtr_mean, 'o-', color=colors['MTeal'], mew=0, ms=5, label=\"Decision Tree\")\n",
    "    ax.plot(err, svr_mean, 'o-', color=colors['MPurp'], mew=0, ms=5, label=\"Support Vector\")\n",
    "    \n",
    "    ax.plot(unc, tamu, 'o-', color=colors['DBrwn'], mew=0, ms=5, label=\"Tamu\")\n",
    "    ax.plot(unc, ratio, 'o-', color=colors['DTeal'], mew=0, ms=5, label=\"Ratios\")\n",
    "    \n",
    "    ax.tick_params(labelsize=14)\n",
    "    ax.legend(loc='best')#'right', bbox_to_anchor=(1.4, 0.5))\n",
    "    plt.show()\n",
    "    \n",
    "    #fig.savefig('../results/19jan2020_15nuc/graphs/rxtr_error.png', bbox_inches='tight', transparent=True)"
   ]
  },
  {
   "cell_type": "code",
   "execution_count": 62,
   "metadata": {},
   "outputs": [
    {
     "data": {
      "text/plain": [
       "<Figure size 432x288 with 0 Axes>"
      ]
     },
     "metadata": {},
     "output_type": "display_data"
    },
    {
     "data": {
      "image/png": "[encoded data removed]",
      "text/plain": [
       "<Figure size 504x432 with 1 Axes>"
      ]
     },
     "metadata": {
      "needs_background": "light"
     },
     "output_type": "display_data"
    }
   ],
   "source": [
    "#plot_errorcurves(rxtr, 'Reactor Type Prediction')\n",
    "plot_errorcurves(burn, 'Burnup Prediction')\n",
    "#plot_errorcurves(cool, 'Time Since Irradiation Prediction')"
   ]
  },
  {
   "cell_type": "code",
   "execution_count": null,
   "metadata": {},
   "outputs": [],
   "source": []
  }
 ],
 "metadata": {
  "kernelspec": {
   "display_name": "Python 3",
   "language": "python",
   "name": "python3"
  },
  "language_info": {
   "codemirror_mode": {
    "name": "ipython",
    "version": 3
   },
   "file_extension": ".py",
   "mimetype": "text/x-python",
   "name": "python",
   "nbconvert_exporter": "python",
   "pygments_lexer": "ipython3",
   "version": "3.6.9"
  }
 },
 "nbformat": 4,
 "nbformat_minor": 4
}
