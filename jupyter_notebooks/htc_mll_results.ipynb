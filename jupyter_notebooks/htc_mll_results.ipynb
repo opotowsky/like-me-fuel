{
 "cells": [
  {
   "cell_type": "code",
   "execution_count": 2,
   "metadata": {},
   "outputs": [],
   "source": [
    "import numpy as np\n",
    "import pandas as pd\n",
    "import matplotlib.cm as cm\n",
    "import matplotlib.tri as tri\n",
    "import matplotlib.pyplot as plt\n",
    "from matplotlib.colors import Normalize\n",
    "%matplotlib inline"
   ]
  },
  {
   "cell_type": "code",
   "execution_count": 4,
   "metadata": {},
   "outputs": [],
   "source": [
    "results_path = '~/sims_n_results/nucmoles_opusupdate_aug2019/'\n",
    "tamunoRatio_path = results_path + 'tamuNoRatio/'\n",
    "tamuRatio_path = results_path + 'tamuRatio/'\n",
    "sfco_path = results_path + 'sfco/'\n",
    "\n",
    "uncs = [0.05, 0.1, 0.15, 0.2]\n",
    "job_dirs = ['Job' + str(i) + '_unc' + str(unc) for i, unc in enumerate(uncs)]"
   ]
  },
  {
   "cell_type": "code",
   "execution_count": null,
   "metadata": {},
   "outputs": [],
   "source": []
  },
  {
   "cell_type": "code",
   "execution_count": null,
   "metadata": {},
   "outputs": [],
   "source": []
  },
  {
   "cell_type": "code",
   "execution_count": null,
   "metadata": {},
   "outputs": [],
   "source": []
  },
  {
   "cell_type": "markdown",
   "metadata": {},
   "source": [
    "### Heatmaps snippet\n",
    "norm = Normalize(vmin=zmin, vmax=zmax, clip=True)\n",
    "\n",
    "triang = tri.Triangulation(x, y)\n",
    "\n",
    "fig = plt.figure(figsize=(10, 7))\n",
    "ax = fig.add_subplot(111)\n",
    "\n",
    "surf = ax.tripcolor(triang, z, norm=norm, cmap=cm.viridis, shading='gouraud')\n",
    "\n",
    "cbar = fig.colorbar(surf)\n",
    "\n",
    "cbar.ax.set_ylabel('z label', size=20, labelpad=15)\n",
    "\n",
    "ax.set_xlabel('x label', fontsize=20, labelpad=15)\n",
    "\n",
    "ax.set_ylabel('y label', fontsize=20, labelpad=15)\n",
    "\n",
    "ax.set_title('Title', fontsize=20, pad=15)\n",
    "\n",
    "plt.show()"
   ]
  }
 ],
 "metadata": {
  "kernelspec": {
   "display_name": "Python 3",
   "language": "python",
   "name": "python3"
  },
  "language_info": {
   "codemirror_mode": {
    "name": "ipython",
    "version": 3
   },
   "file_extension": ".py",
   "mimetype": "text/x-python",
   "name": "python",
   "nbconvert_exporter": "python",
   "pygments_lexer": "ipython3",
   "version": "3.6.9"
  }
 },
 "nbformat": 4,
 "nbformat_minor": 4
}
