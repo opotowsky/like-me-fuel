{
 "cells": [
  {
   "cell_type": "code",
   "execution_count": 40,
   "metadata": {},
   "outputs": [],
   "source": [
    "import numpy as np\n",
    "import pandas as pd\n",
    "import matplotlib.cm as cm\n",
    "import matplotlib.tri as tri\n",
    "import matplotlib.pyplot as plt\n",
    "from matplotlib.colors import Normalize\n",
    "%matplotlib inline"
   ]
  },
  {
   "cell_type": "code",
   "execution_count": 49,
   "metadata": {},
   "outputs": [],
   "source": [
    "results_path = '~/sims_n_results/nucmoles_opusupdate_aug2019/'\n",
    "tamuNoRatio_path = results_path + 'tamuNoRatio/'\n",
    "tamuRatio_path = results_path + 'tamuRatio/'\n",
    "sfco_path = results_path + 'sfco/'\n",
    "# Copied from scripts\n",
    "uncs = [0.05, 0.1, 0.15, 0.2]\n",
    "job_dirs = ['Job' + str(i) + '_unc' + str(unc) for i, unc in enumerate(uncs)]\n",
    "CDF_percentiles = [0.9998, 0.9988, 0.95, 0.9, 0.5, 0.1, 0.01]"
   ]
  },
  {
   "cell_type": "code",
   "execution_count": 119,
   "metadata": {},
   "outputs": [],
   "source": [
    "dfs = {}\n",
    "for i, unc_job in enumerate(job_dirs):\n",
    "    dfs['dfTamu' + str(i)] = pd.read_csv(tamuNoRatio_path + unc_job + '/' + unc_job + '.csv')\n",
    "    dfs['dfTamuRatio' + str(i)] = pd.read_csv(tamuRatio_path + unc_job + '/' + unc_job + '.csv')\n",
    "    dfs['dfSfco' + str(i)] = pd.read_csv(sfco_path + unc_job + '/' + unc_job + '.csv')\n",
    "# for ease of testing things\n",
    "df0 = dfs['dfTamu0']\n",
    "df2 = dfs['dfSfco2']"
   ]
  },
  {
   "cell_type": "code",
   "execution_count": 81,
   "metadata": {},
   "outputs": [
    {
     "data": {
      "text/plain": [
       "Index(['Unnamed: 0', 'Unnamed: 0.1', 'sim_idx', 'ReactorType', 'CoolingTime',\n",
       "       'Enrichment', 'Burnup', 'OrigenReactor', 'pred_idx', 'pred_ReactorType',\n",
       "       'pred_CoolingTime', 'pred_Enrichment', 'pred_Burnup',\n",
       "       'pred_OrigenReactor', 'MaxLogLL', 'MaxLLUnc', '2ndMaxLogLL',\n",
       "       '2ndMaxLLUnc', 'CDF_LogLL_0.9998', 'CDF_LLUnc_0.9998',\n",
       "       'CDF_LogLL_0.9988', 'CDF_LLUnc_0.9988', 'CDF_LogLL_0.95',\n",
       "       'CDF_LLUnc_0.95', 'CDF_LogLL_0.9', 'CDF_LLUnc_0.9', 'CDF_LogLL_0.5',\n",
       "       'CDF_LLUnc_0.5', 'CDF_LogLL_0.1', 'CDF_LLUnc_0.1', 'CDF_LogLL_0.01',\n",
       "       'CDF_LLUnc_0.01', 'ReactorType_Score', 'CoolingTime_Error',\n",
       "       'Enrichment_Error', 'Burnup_Error', 'OrigenReactor_Score'],\n",
       "      dtype='object')"
      ]
     },
     "execution_count": 81,
     "metadata": {},
     "output_type": "execute_result"
    }
   ],
   "source": [
    "dfs['dfSfco1'].columns"
   ]
  },
  {
   "cell_type": "code",
   "execution_count": 120,
   "metadata": {},
   "outputs": [
    {
     "data": {
      "text/html": [
       "<div>\n",
       "<style scoped>\n",
       "    .dataframe tbody tr th:only-of-type {\n",
       "        vertical-align: middle;\n",
       "    }\n",
       "\n",
       "    .dataframe tbody tr th {\n",
       "        vertical-align: top;\n",
       "    }\n",
       "\n",
       "    .dataframe thead th {\n",
       "        text-align: right;\n",
       "    }\n",
       "</style>\n",
       "<table border=\"1\" class=\"dataframe\">\n",
       "  <thead>\n",
       "    <tr style=\"text-align: right;\">\n",
       "      <th></th>\n",
       "      <th>Unnamed: 0</th>\n",
       "      <th>Unnamed: 0.1</th>\n",
       "      <th>sim_idx</th>\n",
       "      <th>ReactorType</th>\n",
       "      <th>CoolingTime</th>\n",
       "      <th>Enrichment</th>\n",
       "      <th>Burnup</th>\n",
       "      <th>OrigenReactor</th>\n",
       "      <th>pred_idx</th>\n",
       "      <th>pred_ReactorType</th>\n",
       "      <th>...</th>\n",
       "      <th>CDF_LLUnc_0.5</th>\n",
       "      <th>CDF_LogLL_0.1</th>\n",
       "      <th>CDF_LLUnc_0.1</th>\n",
       "      <th>CDF_LogLL_0.01</th>\n",
       "      <th>CDF_LLUnc_0.01</th>\n",
       "      <th>ReactorType_Score</th>\n",
       "      <th>CoolingTime_Error</th>\n",
       "      <th>Enrichment_Error</th>\n",
       "      <th>Burnup_Error</th>\n",
       "      <th>OrigenReactor_Score</th>\n",
       "    </tr>\n",
       "  </thead>\n",
       "  <tbody>\n",
       "    <tr>\n",
       "      <th>234</th>\n",
       "      <td>24</td>\n",
       "      <td>24</td>\n",
       "      <td>NOV-4|13626135|69|135</td>\n",
       "      <td>pwr</td>\n",
       "      <td>0.0</td>\n",
       "      <td>3.592</td>\n",
       "      <td>29900.0</td>\n",
       "      <td>Novovoronezh-4_VVER-440</td>\n",
       "      <td>16405</td>\n",
       "      <td>bwr</td>\n",
       "      <td>...</td>\n",
       "      <td>21.346785</td>\n",
       "      <td>-334800.077369</td>\n",
       "      <td>14.029704</td>\n",
       "      <td>-8.480889e+08</td>\n",
       "      <td>10.406071</td>\n",
       "      <td>False</td>\n",
       "      <td>4214.608653</td>\n",
       "      <td>0.302</td>\n",
       "      <td>10131.96</td>\n",
       "      <td>False</td>\n",
       "    </tr>\n",
       "  </tbody>\n",
       "</table>\n",
       "<p>1 rows × 37 columns</p>\n",
       "</div>"
      ],
      "text/plain": [
       "     Unnamed: 0  Unnamed: 0.1                sim_idx ReactorType  CoolingTime  \\\n",
       "234          24            24  NOV-4|13626135|69|135         pwr          0.0   \n",
       "\n",
       "     Enrichment   Burnup            OrigenReactor  pred_idx pred_ReactorType  \\\n",
       "234       3.592  29900.0  Novovoronezh-4_VVER-440     16405              bwr   \n",
       "\n",
       "     ...  CDF_LLUnc_0.5  CDF_LogLL_0.1  CDF_LLUnc_0.1 CDF_LogLL_0.01  \\\n",
       "234  ...      21.346785 -334800.077369      14.029704  -8.480889e+08   \n",
       "\n",
       "     CDF_LLUnc_0.01  ReactorType_Score  CoolingTime_Error  Enrichment_Error  \\\n",
       "234       10.406071              False        4214.608653             0.302   \n",
       "\n",
       "     Burnup_Error  OrigenReactor_Score  \n",
       "234      10131.96                False  \n",
       "\n",
       "[1 rows x 37 columns]"
      ]
     },
     "execution_count": 120,
     "metadata": {},
     "output_type": "execute_result"
    }
   ],
   "source": [
    "max_ll_pred = df2['MaxLogLL'].quantile(1, interpolation='higher')\n",
    "df2.loc[df2['MaxLogLL'] == max_ll_pred]"
   ]
  },
  {
   "cell_type": "code",
   "execution_count": 121,
   "metadata": {},
   "outputs": [
    {
     "data": {
      "text/plain": [
       "-2.873949748182105"
      ]
     },
     "execution_count": 121,
     "metadata": {},
     "output_type": "execute_result"
    }
   ],
   "source": [
    "max_ll_pred"
   ]
  },
  {
   "cell_type": "code",
   "execution_count": 84,
   "metadata": {},
   "outputs": [
    {
     "data": {
      "text/plain": [
       "dict_keys(['dfTamu0', 'dfTamuRatio0', 'dfSfco0', 'dfTamu1', 'dfTamuRatio1', 'dfSfco1', 'dfTamu2', 'dfTamuRatio2', 'dfSfco2', 'dfTamu3', 'dfTamuRatio3', 'dfSfco3'])"
      ]
     },
     "execution_count": 84,
     "metadata": {},
     "output_type": "execute_result"
    }
   ],
   "source": [
    "dfs.keys()"
   ]
  },
  {
   "cell_type": "markdown",
   "metadata": {},
   "source": [
    "# MLL Heatmap"
   ]
  },
  {
   "cell_type": "code",
   "execution_count": 117,
   "metadata": {},
   "outputs": [],
   "source": [
    "def plot_heatmap(i, dfname):\n",
    "    df = dfs['df' + dfname + str(i)]\n",
    "    \n",
    "    plt.clf()\n",
    "    fig = plt.figure(figsize=(10, 10))\n",
    "    ax = fig.add_subplot(111)\n",
    "    \n",
    "    vmin = 0\n",
    "    vmax = df['MaxLogLL'].quantile(1, interpolation='higher')\n",
    "    norm = Normalize(vmin=vmin, vmax=vmax, clip=True)\n",
    "    \n",
    "    x = df['Burnup']\n",
    "    y = df['Enrichment']#['CoolingTime']\n",
    "    triang = tri.Triangulation(x, y)\n",
    "    z = df['MaxLogLL']\n",
    "    \n",
    "    surf = ax.tripcolor(triang, z, norm=norm, cmap=cm.viridis, shading='gouraud')\n",
    "    # Other potential args: edgecolor='none', linewidth=0, antialiased=False\n",
    "    \n",
    "    ax.set_title(str(uncs[i]*100) + '% Uncertainty', fontsize=20, pad=15)\n",
    "    ax.set_xlabel('Burnup [MWd/MTHM]', fontsize=20, labelpad=15)\n",
    "    ax.set_ylabel('Cooling Time [days]', fontsize=20, labelpad=15)\n",
    "    #ax.set_xlim()\n",
    "    #ax.set_ylim()\n",
    "    \n",
    "    cbar = fig.colorbar(surf)\n",
    "    cbar.ax.set_ylabel('LogLikelihood', size=20) #labelpad=15\n",
    "    #ax.tick_params(labelsize=14)\n",
    "    plt.show()\n",
    "    \n",
    "    dftitle = {'Tamu': 'tamuNoRatio', 'TamuRatio': 'tamuRatio', 'Sfco' : 'sfco'}\n",
    "    fig.savefig('../plots/' + dftitle[dfname] + str(i) + '_unc' + str(uncs[i]) + '.png')"
   ]
  },
  {
   "cell_type": "code",
   "execution_count": 122,
   "metadata": {},
   "outputs": [
    {
     "data": {
      "text/plain": [
       "<Figure size 432x288 with 0 Axes>"
      ]
     },
     "metadata": {},
     "output_type": "display_data"
    },
    {
     "data": {
      "image/png": "[encoded data removed]",
      "text/plain": [
       "<Figure size 720x720 with 2 Axes>"
      ]
     },
     "metadata": {
      "needs_background": "light"
     },
     "output_type": "display_data"
    }
   ],
   "source": [
    "plot_heatmap(3, 'Sfco')"
   ]
  },
  {
   "cell_type": "code",
   "execution_count": null,
   "metadata": {},
   "outputs": [],
   "source": []
  },
  {
   "cell_type": "markdown",
   "metadata": {},
   "source": [
    "# CDFs of select predictions"
   ]
  },
  {
   "cell_type": "code",
   "execution_count": null,
   "metadata": {},
   "outputs": [],
   "source": [
    "def plot_cdfs(df):\n",
    "    \n",
    "    plt.clf()\n",
    "    \n",
    "    err = df['Percent Error']\n",
    "    knn_mean = df['kNN Score']\n",
    "    knn_std = df['kNN Std']\n",
    "    dtr_mean = df['DTree Score']\n",
    "    dtr_std = df['DTree Std']\n",
    "    svr_mean = df['SVR Score']\n",
    "    svr_std = df['SVR Std']\n",
    "    \n",
    "    fig = plt.figure(figsize=(7,6))\n",
    "    ax = fig.add_subplot(1, 1, 1)\n",
    "    \n",
    "    ax.set_title('Reactor Type Prediction', fontsize=20)\n",
    "    ax.set_xlabel('Percent Error', fontsize=14)\n",
    "    #ax.set_xlim(0, 10)\n",
    "    ax.set_ylabel('Score', fontsize=16)\n",
    "    #ax.set_ylim(0.98, 1.001)\n",
    "    \n",
    "    ax.fill_between(err, knn_mean - knn_std, knn_mean + knn_std, color = med[0], alpha=0.2)\n",
    "    ax.fill_between(err, dtr_mean - dtr_std, dtr_mean + dtr_std, color = med[1], alpha=0.2)\n",
    "    ax.fill_between(err, svr_mean - svr_std, svr_mean + svr_std, color = med[2], alpha=0.2)\n",
    "    \n",
    "    ax.plot(err, knn_mean, 'o-', color=med[0], mew=0, ms=5, label=\"kNN\")\n",
    "    ax.plot(err, dtr_mean, 'o-', color=med[1], mew=0, ms=5, label=\"Decision Tree\")\n",
    "    ax.plot(err, svr_mean, 'o-', color=med[2], mew=0, ms=5, label=\"Support Vector\")\n",
    "    \n",
    "    ax.tick_params(labelsize=14)\n",
    "    ax.legend(loc='best')#'right', bbox_to_anchor=(1.4, 0.5))\n",
    "    \n",
    "    plt.savefig('.png', bbox_inches='tight', transparent=True)\n",
    "    plt.show()"
   ]
  },
  {
   "cell_type": "markdown",
   "metadata": {},
   "source": [
    "### Heatmaps snippet\n",
    "norm = Normalize(vmin=zmin, vmax=zmax, clip=True)\n",
    "\n",
    "triang = tri.Triangulation(x, y)\n",
    "\n",
    "fig = plt.figure(figsize=(10, 7))\n",
    "ax = fig.add_subplot(111)\n",
    "\n",
    "surf = ax.tripcolor(triang, z, norm=norm, cmap=cm.viridis, shading='gouraud')\n",
    "\n",
    "cbar = fig.colorbar(surf)\n",
    "\n",
    "cbar.ax.set_ylabel('z label', size=20, labelpad=15)\n",
    "\n",
    "ax.set_xlabel('x label', fontsize=20, labelpad=15)\n",
    "\n",
    "ax.set_ylabel('y label', fontsize=20, labelpad=15)\n",
    "\n",
    "ax.set_title('Title', fontsize=20, pad=15)\n",
    "\n",
    "plt.show()"
   ]
  }
 ],
 "metadata": {
  "kernelspec": {
   "display_name": "Python 3",
   "language": "python",
   "name": "python3"
  },
  "language_info": {
   "codemirror_mode": {
    "name": "ipython",
    "version": 3
   },
   "file_extension": ".py",
   "mimetype": "text/x-python",
   "name": "python",
   "nbconvert_exporter": "python",
   "pygments_lexer": "ipython3",
   "version": "3.6.9"
  }
 },
 "nbformat": 4,
 "nbformat_minor": 4
}
