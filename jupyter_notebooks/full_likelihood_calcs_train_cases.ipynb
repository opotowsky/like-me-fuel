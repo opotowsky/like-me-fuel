{
 "cells": [
  {
   "cell_type": "code",
   "execution_count": 2,
   "metadata": {},
   "outputs": [],
   "source": [
    "import numpy as np\n",
    "import pandas as pd\n",
    "import seaborn as sns\n",
    "import matplotlib.cm as cm\n",
    "import matplotlib.tri as tri\n",
    "import matplotlib.pyplot as plt\n",
    "import scipy.stats as stats\n",
    "from matplotlib.colors import Normalize\n",
    "%matplotlib inline"
   ]
  },
  {
   "cell_type": "markdown",
   "metadata": {},
   "source": [
    "# 0. Functions"
   ]
  },
  {
   "cell_type": "code",
   "execution_count": 3,
   "metadata": {},
   "outputs": [],
   "source": [
    "def getstats(db):\n",
    "    stat = {}\n",
    "    for unc in uncs:\n",
    "        stat['unc' + str(unc)] = stats.describe(db['LLunc'+str(unc)])\n",
    "        print('{}% Unc Stats: {} \\n'.format(unc*100, stat['unc'+str(unc)]))\n",
    "    return stat"
   ]
  },
  {
   "cell_type": "code",
   "execution_count": 13,
   "metadata": {},
   "outputs": [],
   "source": [
    "def plotme(g_or_b, XYZ, title, zname, vmin, vmax):\n",
    "    fig = plt.figure(figsize=(10, 8))\n",
    "    #cmap = sns.cubehelix_palette(6, as_cmap=True)\n",
    "    norm = Normalize(vmin=vmin, vmax=vmax, clip=True)\n",
    "    ax = fig.add_subplot(111)\n",
    "    ax.set_title(title, fontsize=20, pad=15)\n",
    "    ax.set_xlabel('Burnup [MWd/MTHM]', fontsize=20, labelpad=15)\n",
    "    ax.set_ylabel('Cooling Time [days]', fontsize=20, labelpad=15)\n",
    "    \n",
    "    x = XYZ['Burnup']\n",
    "    y = XYZ['CoolingTime']\n",
    "    triang_unref = tri.Triangulation(x, y)\n",
    "    z_unref = XYZ[zname]\n",
    "    \n",
    "    refiner = tri.UniformTriRefiner(triang_unref)\n",
    "    triang, z = refiner.refine_field(z_unref)\n",
    "    \n",
    "    surf = ax.tripcolor(triang, z, norm=norm, cmap=cm.viridis, shading='gouraud')\n",
    "    #surf = ax.tricontourf(triang, z, norm=norm, cmap=cm.viridis)\n",
    "    if g_or_b == 'g':\n",
    "        xtr = pred_g['Burnup']\n",
    "        ytr = pred_g['CoolingTime']\n",
    "        ax.set_xlim(24000, 29000)\n",
    "        ax.set_ylim(1750, 4250)\n",
    "    else:\n",
    "        xtr = pred_b['Burnup']\n",
    "        ytr = pred_b['CoolingTime']\n",
    "        ax.set_xlim(7000, 25000)\n",
    "        ax.set_ylim(0, 400)\n",
    "    xpr = XYZ['Burnup'].iloc[XYZ[zname].idxmax()]\n",
    "    ypr = XYZ['CoolingTime'].iloc[XYZ[zname].idxmax()]\n",
    "    plt.plot([xpr], [ypr], marker='o', markersize=4, color=\"white\")\n",
    "    ax.annotate('Best Prediction', (xpr, ypr), weight='bold', xytext=(0, 5), textcoords='offset points')\n",
    "    plt.plot([xtr], [ytr], marker='s', markersize=4, color=\"white\")\n",
    "    ax.annotate('Ground Truth', (xtr, ytr), weight='bold', xytext=(5, 2), textcoords='offset points')\n",
    "    ax.tick_params(labelsize=14)\n",
    "    \n",
    "    cbar = fig.colorbar(surf)\n",
    "    cbar.ax.set_ylabel('Likelihood', size=20, labelpad=15)\n",
    "    cbar.ax.tick_params(labelsize=14)\n",
    "    \n",
    "    plt.tight_layout()\n",
    "    plt.show()\n",
    "    plt.clf()\n",
    "    #fig.savefig('../plots/llsurf_***.png', bbox_inches='tight', transparent=True)"
   ]
  },
  {
   "cell_type": "markdown",
   "metadata": {},
   "source": [
    "# 1. Retreive LL calc results"
   ]
  },
  {
   "cell_type": "markdown",
   "metadata": {},
   "source": [
    "## (a) Test samples for LL calcs"
   ]
  },
  {
   "cell_type": "code",
   "execution_count": 5,
   "metadata": {},
   "outputs": [
    {
     "data": {
      "text/html": [
       "<div>\n",
       "<style scoped>\n",
       "    .dataframe tbody tr th:only-of-type {\n",
       "        vertical-align: middle;\n",
       "    }\n",
       "\n",
       "    .dataframe tbody tr th {\n",
       "        vertical-align: top;\n",
       "    }\n",
       "\n",
       "    .dataframe thead th {\n",
       "        text-align: right;\n",
       "    }\n",
       "</style>\n",
       "<table border=\"1\" class=\"dataframe\">\n",
       "  <thead>\n",
       "    <tr style=\"text-align: right;\">\n",
       "      <th></th>\n",
       "      <th>AvgPowerDensity</th>\n",
       "      <th>Burnup</th>\n",
       "      <th>CoolingTime</th>\n",
       "      <th>Enrichment</th>\n",
       "      <th>ModDensity</th>\n",
       "      <th>OrigenReactor</th>\n",
       "      <th>ReactorType</th>\n",
       "      <th>UiWeight</th>\n",
       "      <th>am241</th>\n",
       "      <th>am242m</th>\n",
       "      <th>...</th>\n",
       "      <th>sm147</th>\n",
       "      <th>sm149</th>\n",
       "      <th>sm150</th>\n",
       "      <th>sm151</th>\n",
       "      <th>sm152</th>\n",
       "      <th>total</th>\n",
       "      <th>u234</th>\n",
       "      <th>u235</th>\n",
       "      <th>u236</th>\n",
       "      <th>u238</th>\n",
       "    </tr>\n",
       "  </thead>\n",
       "  <tbody>\n",
       "    <tr>\n",
       "      <th>9.888e+03</th>\n",
       "      <td>10.0</td>\n",
       "      <td>69769.38</td>\n",
       "      <td>2910.6605</td>\n",
       "      <td>5.11</td>\n",
       "      <td>0.74</td>\n",
       "      <td>atrium10x10-9</td>\n",
       "      <td>bwr</td>\n",
       "      <td>1</td>\n",
       "      <td>661.6</td>\n",
       "      <td>2.581</td>\n",
       "      <td>...</td>\n",
       "      <td>431.2</td>\n",
       "      <td>1.866</td>\n",
       "      <td>498.8</td>\n",
       "      <td>12.33</td>\n",
       "      <td>159.8</td>\n",
       "      <td>1000000.0</td>\n",
       "      <td>214.1</td>\n",
       "      <td>3630.0</td>\n",
       "      <td>7110.0</td>\n",
       "      <td>904500.0</td>\n",
       "    </tr>\n",
       "  </tbody>\n",
       "</table>\n",
       "<p>1 rows × 38 columns</p>\n",
       "</div>"
      ],
      "text/plain": [
       "           AvgPowerDensity    Burnup  CoolingTime  Enrichment  ModDensity  \\\n",
       "9.888e+03             10.0  69769.38    2910.6605        5.11        0.74   \n",
       "\n",
       "           OrigenReactor ReactorType  UiWeight  am241  am242m  ...  sm147  \\\n",
       "9.888e+03  atrium10x10-9         bwr         1  661.6   2.581  ...  431.2   \n",
       "\n",
       "           sm149  sm150  sm151  sm152      total   u234    u235    u236  \\\n",
       "9.888e+03  1.866  498.8  12.33  159.8  1000000.0  214.1  3630.0  7110.0   \n",
       "\n",
       "               u238  \n",
       "9.888e+03  904500.0  \n",
       "\n",
       "[1 rows x 38 columns]"
      ]
     },
     "execution_count": 5,
     "metadata": {},
     "output_type": "execute_result"
    }
   ],
   "source": [
    "g = pd.read_pickle('../mll_calc/htc_files/train_good.pkl')\n",
    "g"
   ]
  },
  {
   "cell_type": "code",
   "execution_count": 6,
   "metadata": {},
   "outputs": [
    {
     "data": {
      "text/html": [
       "<div>\n",
       "<style scoped>\n",
       "    .dataframe tbody tr th:only-of-type {\n",
       "        vertical-align: middle;\n",
       "    }\n",
       "\n",
       "    .dataframe tbody tr th {\n",
       "        vertical-align: top;\n",
       "    }\n",
       "\n",
       "    .dataframe thead th {\n",
       "        text-align: right;\n",
       "    }\n",
       "</style>\n",
       "<table border=\"1\" class=\"dataframe\">\n",
       "  <thead>\n",
       "    <tr style=\"text-align: right;\">\n",
       "      <th></th>\n",
       "      <th>AvgPowerDensity</th>\n",
       "      <th>Burnup</th>\n",
       "      <th>CoolingTime</th>\n",
       "      <th>Enrichment</th>\n",
       "      <th>ModDensity</th>\n",
       "      <th>OrigenReactor</th>\n",
       "      <th>ReactorType</th>\n",
       "      <th>UiWeight</th>\n",
       "      <th>am241</th>\n",
       "      <th>am242m</th>\n",
       "      <th>...</th>\n",
       "      <th>sm147</th>\n",
       "      <th>sm149</th>\n",
       "      <th>sm150</th>\n",
       "      <th>sm151</th>\n",
       "      <th>sm152</th>\n",
       "      <th>total</th>\n",
       "      <th>u234</th>\n",
       "      <th>u235</th>\n",
       "      <th>u236</th>\n",
       "      <th>u238</th>\n",
       "    </tr>\n",
       "  </thead>\n",
       "  <tbody>\n",
       "    <tr>\n",
       "      <th>1.832e+03</th>\n",
       "      <td>25.0</td>\n",
       "      <td>10887.95</td>\n",
       "      <td>1396.689271</td>\n",
       "      <td>4.52</td>\n",
       "      <td>0.71</td>\n",
       "      <td>w17x17</td>\n",
       "      <td>pwr</td>\n",
       "      <td>1</td>\n",
       "      <td>40.34</td>\n",
       "      <td>0.03287</td>\n",
       "      <td>...</td>\n",
       "      <td>92.94</td>\n",
       "      <td>3.618</td>\n",
       "      <td>85.34</td>\n",
       "      <td>10.25</td>\n",
       "      <td>40.01</td>\n",
       "      <td>1000000.0</td>\n",
       "      <td>312.0</td>\n",
       "      <td>33500.0</td>\n",
       "      <td>2356.0</td>\n",
       "      <td>948000.0</td>\n",
       "    </tr>\n",
       "  </tbody>\n",
       "</table>\n",
       "<p>1 rows × 38 columns</p>\n",
       "</div>"
      ],
      "text/plain": [
       "           AvgPowerDensity    Burnup  CoolingTime  Enrichment  ModDensity  \\\n",
       "1.832e+03             25.0  10887.95  1396.689271        4.52        0.71   \n",
       "\n",
       "          OrigenReactor ReactorType  UiWeight  am241   am242m  ...  sm147  \\\n",
       "1.832e+03        w17x17         pwr         1  40.34  0.03287  ...  92.94   \n",
       "\n",
       "           sm149  sm150  sm151  sm152      total   u234     u235    u236  \\\n",
       "1.832e+03  3.618  85.34  10.25  40.01  1000000.0  312.0  33500.0  2356.0   \n",
       "\n",
       "               u238  \n",
       "1.832e+03  948000.0  \n",
       "\n",
       "[1 rows x 38 columns]"
      ]
     },
     "execution_count": 6,
     "metadata": {},
     "output_type": "execute_result"
    }
   ],
   "source": [
    "b = pd.read_pickle('../mll_calc/htc_files/train_bad.pkl')\n",
    "b"
   ]
  },
  {
   "cell_type": "markdown",
   "metadata": {},
   "source": [
    "## (b) LL calcs for uncertainty = 5%, 10%, 15%, 20%"
   ]
  },
  {
   "cell_type": "code",
   "execution_count": 7,
   "metadata": {},
   "outputs": [],
   "source": [
    "lbls = ['ReactorType', 'CoolingTime', 'Enrichment', 'Burnup', 'OrigenReactor']\n",
    "nonlbls = ['AvgPowerDensity', 'ModDensity', 'UiWeight']"
   ]
  },
  {
   "cell_type": "code",
   "execution_count": 8,
   "metadata": {},
   "outputs": [],
   "source": [
    "results = '~/sims_n_results/simupdates_aug2020/full_ll/'\n",
    "\n",
    "uncs = [0.05, 0.1, 0.15, 0.2]\n",
    "job_dirs = ['Job' + str(i) + '_unc' + str(unc) for i, unc in enumerate(uncs)]\n",
    "ll = {}\n",
    "for i, unc_job in enumerate(job_dirs):\n",
    "    csv = unc_job + '/' + unc_job + '.csv'\n",
    "    if i == 0:\n",
    "        ll['good'] = pd.read_csv(results + 'train_good/' + csv).drop(columns=['Unnamed: 0', 'Unnamed: 0.1']).rename(columns={'LL':'LLunc'+str(uncs[i])})\n",
    "        ll['bad'] = pd.read_csv(results + 'train_bad/' + csv).drop(columns=['Unnamed: 0', 'Unnamed: 0.1']).rename(columns={'LL':'LLunc'+str(uncs[i])})\n",
    "    else:\n",
    "        ll['good']['LLunc'+str(uncs[i])] = pd.read_csv(results + 'train_good/' + csv)['LL']\n",
    "        ll['bad']['LLunc'+str(uncs[i])] = pd.read_csv(results + 'train_bad/' + csv)['LL']"
   ]
  },
  {
   "cell_type": "code",
   "execution_count": 9,
   "metadata": {},
   "outputs": [
    {
     "data": {
      "text/html": [
       "<div>\n",
       "<style scoped>\n",
       "    .dataframe tbody tr th:only-of-type {\n",
       "        vertical-align: middle;\n",
       "    }\n",
       "\n",
       "    .dataframe tbody tr th {\n",
       "        vertical-align: top;\n",
       "    }\n",
       "\n",
       "    .dataframe thead th {\n",
       "        text-align: right;\n",
       "    }\n",
       "</style>\n",
       "<table border=\"1\" class=\"dataframe\">\n",
       "  <thead>\n",
       "    <tr style=\"text-align: right;\">\n",
       "      <th></th>\n",
       "      <th>sim_idx</th>\n",
       "      <th>ReactorType</th>\n",
       "      <th>CoolingTime</th>\n",
       "      <th>Enrichment</th>\n",
       "      <th>Burnup</th>\n",
       "      <th>OrigenReactor</th>\n",
       "      <th>AvgPowerDensity</th>\n",
       "      <th>ModDensity</th>\n",
       "      <th>UiWeight</th>\n",
       "      <th>pred_idx</th>\n",
       "      <th>...</th>\n",
       "      <th>CDF_LLUnc_0.5</th>\n",
       "      <th>CDF_LogLL_0.1</th>\n",
       "      <th>CDF_LLUnc_0.1</th>\n",
       "      <th>CDF_LogLL_0.01</th>\n",
       "      <th>CDF_LLUnc_0.01</th>\n",
       "      <th>ReactorType_Score</th>\n",
       "      <th>CoolingTime_Error</th>\n",
       "      <th>Enrichment_Error</th>\n",
       "      <th>Burnup_Error</th>\n",
       "      <th>OrigenReactor_Score</th>\n",
       "    </tr>\n",
       "  </thead>\n",
       "  <tbody>\n",
       "    <tr>\n",
       "      <th>5824</th>\n",
       "      <td>178095</td>\n",
       "      <td>bwr</td>\n",
       "      <td>1053.708101</td>\n",
       "      <td>5.11</td>\n",
       "      <td>1030.7</td>\n",
       "      <td>atrium10x10-9</td>\n",
       "      <td>20.0</td>\n",
       "      <td>0.74</td>\n",
       "      <td>1</td>\n",
       "      <td>179775</td>\n",
       "      <td>...</td>\n",
       "      <td>1380.805811</td>\n",
       "      <td>-1.171839e+07</td>\n",
       "      <td>98.882337</td>\n",
       "      <td>-7.710935e+08</td>\n",
       "      <td>79.660394</td>\n",
       "      <td>True</td>\n",
       "      <td>0.0</td>\n",
       "      <td>0.0</td>\n",
       "      <td>0.0</td>\n",
       "      <td>True</td>\n",
       "    </tr>\n",
       "  </tbody>\n",
       "</table>\n",
       "<p>1 rows × 41 columns</p>\n",
       "</div>"
      ],
      "text/plain": [
       "      sim_idx ReactorType  CoolingTime  Enrichment  Burnup  OrigenReactor  \\\n",
       "5824   178095         bwr  1053.708101        5.11  1030.7  atrium10x10-9   \n",
       "\n",
       "      AvgPowerDensity  ModDensity  UiWeight  pred_idx  ... CDF_LLUnc_0.5  \\\n",
       "5824             20.0        0.74         1    179775  ...   1380.805811   \n",
       "\n",
       "      CDF_LogLL_0.1  CDF_LLUnc_0.1  CDF_LogLL_0.01 CDF_LLUnc_0.01  \\\n",
       "5824  -1.171839e+07      98.882337   -7.710935e+08      79.660394   \n",
       "\n",
       "      ReactorType_Score  CoolingTime_Error  Enrichment_Error  Burnup_Error  \\\n",
       "5824               True                0.0               0.0           0.0   \n",
       "\n",
       "      OrigenReactor_Score  \n",
       "5824                 True  \n",
       "\n",
       "[1 rows x 41 columns]"
      ]
     },
     "execution_count": 9,
     "metadata": {},
     "output_type": "execute_result"
    }
   ],
   "source": [
    "pred_g = pd.read_pickle('pred_good.pkl')\n",
    "pred_b = pd.read_pickle('pred_bad.pkl')\n",
    "\n",
    "#bidx = 283935\n",
    "#gidx = 178095\n",
    "pred_g"
   ]
  },
  {
   "cell_type": "code",
   "execution_count": 10,
   "metadata": {},
   "outputs": [
    {
     "data": {
      "text/html": [
       "<div>\n",
       "<style scoped>\n",
       "    .dataframe tbody tr th:only-of-type {\n",
       "        vertical-align: middle;\n",
       "    }\n",
       "\n",
       "    .dataframe tbody tr th {\n",
       "        vertical-align: top;\n",
       "    }\n",
       "\n",
       "    .dataframe thead th {\n",
       "        text-align: right;\n",
       "    }\n",
       "</style>\n",
       "<table border=\"1\" class=\"dataframe\">\n",
       "  <thead>\n",
       "    <tr style=\"text-align: right;\">\n",
       "      <th></th>\n",
       "      <th>sim_idx</th>\n",
       "      <th>ReactorType</th>\n",
       "      <th>CoolingTime</th>\n",
       "      <th>Enrichment</th>\n",
       "      <th>Burnup</th>\n",
       "      <th>OrigenReactor</th>\n",
       "      <th>AvgPowerDensity</th>\n",
       "      <th>ModDensity</th>\n",
       "      <th>UiWeight</th>\n",
       "      <th>pred_idx</th>\n",
       "      <th>...</th>\n",
       "      <th>CDF_LLUnc_0.5</th>\n",
       "      <th>CDF_LogLL_0.1</th>\n",
       "      <th>CDF_LLUnc_0.1</th>\n",
       "      <th>CDF_LogLL_0.01</th>\n",
       "      <th>CDF_LLUnc_0.01</th>\n",
       "      <th>ReactorType_Score</th>\n",
       "      <th>CoolingTime_Error</th>\n",
       "      <th>Enrichment_Error</th>\n",
       "      <th>Burnup_Error</th>\n",
       "      <th>OrigenReactor_Score</th>\n",
       "    </tr>\n",
       "  </thead>\n",
       "  <tbody>\n",
       "    <tr>\n",
       "      <th>9275</th>\n",
       "      <td>283935</td>\n",
       "      <td>pwr</td>\n",
       "      <td>1270.348072</td>\n",
       "      <td>4.52</td>\n",
       "      <td>20178.59</td>\n",
       "      <td>w17x17</td>\n",
       "      <td>25.0</td>\n",
       "      <td>0.71</td>\n",
       "      <td>1</td>\n",
       "      <td>173957</td>\n",
       "      <td>...</td>\n",
       "      <td>33969.690711</td>\n",
       "      <td>-2.828594e+09</td>\n",
       "      <td>371.005296</td>\n",
       "      <td>-5.453713e+16</td>\n",
       "      <td>54.95242</td>\n",
       "      <td>False</td>\n",
       "      <td>27.72854</td>\n",
       "      <td>0.59</td>\n",
       "      <td>1668.54</td>\n",
       "      <td>False</td>\n",
       "    </tr>\n",
       "  </tbody>\n",
       "</table>\n",
       "<p>1 rows × 41 columns</p>\n",
       "</div>"
      ],
      "text/plain": [
       "      sim_idx ReactorType  CoolingTime  Enrichment    Burnup OrigenReactor  \\\n",
       "9275   283935         pwr  1270.348072        4.52  20178.59        w17x17   \n",
       "\n",
       "      AvgPowerDensity  ModDensity  UiWeight  pred_idx  ... CDF_LLUnc_0.5  \\\n",
       "9275             25.0        0.71         1    173957  ...  33969.690711   \n",
       "\n",
       "      CDF_LogLL_0.1  CDF_LLUnc_0.1  CDF_LogLL_0.01 CDF_LLUnc_0.01  \\\n",
       "9275  -2.828594e+09     371.005296   -5.453713e+16       54.95242   \n",
       "\n",
       "      ReactorType_Score  CoolingTime_Error  Enrichment_Error  Burnup_Error  \\\n",
       "9275              False           27.72854              0.59       1668.54   \n",
       "\n",
       "      OrigenReactor_Score  \n",
       "9275                False  \n",
       "\n",
       "[1 rows x 41 columns]"
      ]
     },
     "execution_count": 10,
     "metadata": {},
     "output_type": "execute_result"
    }
   ],
   "source": [
    "pred_b"
   ]
  },
  {
   "cell_type": "markdown",
   "metadata": {},
   "source": [
    "# 2. Likelihood for 4 simulated uncertainty values\n",
    "This is std/scale in logpdf function"
   ]
  },
  {
   "cell_type": "code",
   "execution_count": 11,
   "metadata": {
    "scrolled": true
   },
   "outputs": [
    {
     "name": "stdout",
     "output_type": "stream",
     "text": [
      "5.0% Unc Stats: DescribeResult(nobs=367200, minmax=(0.0, 2.2603704972648677e-48), mean=7.226822502311873e-54, variance=1.433531968229822e-101, skewness=582.5106620478169, kurtosis=346251.66208189185) \n",
      "\n",
      "10.0% Unc Stats: DescribeResult(nobs=367200, minmax=(0.0, 4.2102681421951726e-57), mean=2.332064833245463e-62, variance=6.637661052173785e-119, skewness=457.97460046546774, kurtosis=219708.16966770255) \n",
      "\n",
      "15.0% Unc Stats: DescribeResult(nobs=367200, minmax=(0.0, 3.293542282664854e-62), mean=5.922140421550941e-67, variance=7.126706926994546e-129, skewness=260.9930885588829, kurtosis=86503.03873433675) \n",
      "\n",
      "20.0% Unc Stats: DescribeResult(nobs=367200, minmax=(0.0, 7.842235532021472e-66), mean=3.880678220951111e-70, variance=1.1710973002597834e-135, skewness=127.08030370180607, kurtosis=19307.73164769534) \n",
      "\n"
     ]
    }
   ],
   "source": [
    "stat_good = getstats(ll['good'])"
   ]
  },
  {
   "cell_type": "code",
   "execution_count": 12,
   "metadata": {
    "scrolled": true
   },
   "outputs": [
    {
     "name": "stdout",
     "output_type": "stream",
     "text": [
      "5.0% Unc Stats: DescribeResult(nobs=367200, minmax=(0.0, 2.943499876775873e-23), mean=9.10462148294986e-29, variance=2.3903045915534485e-51, skewness=595.1369559628, kurtosis=357855.6101249293) \n",
      "\n",
      "10.0% Unc Stats: DescribeResult(nobs=367200, minmax=(0.0, 5.4826957672385e-32), mean=2.9801225728712043e-37, variance=1.206563502171907e-68, skewness=417.67767129778053, kurtosis=188630.11538043703) \n",
      "\n",
      "15.0% Unc Stats: DescribeResult(nobs=367200, minmax=(0.0, 4.288916934153446e-37), mean=3.2938316912359864e-42, variance=1.0444374532525907e-78, skewness=358.0121446509633, kurtosis=132440.95247053384) \n",
      "\n",
      "20.0% Unc Stats: DescribeResult(nobs=367200, minmax=(0.0, 1.0212316675555892e-40), mean=1.399961490141919e-45, variance=7.709601785205147e-86, skewness=308.5982998472981, kurtosis=102717.02872348868) \n",
      "\n"
     ]
    }
   ],
   "source": [
    "stat_bad = getstats(ll['bad'])"
   ]
  },
  {
   "cell_type": "code",
   "execution_count": null,
   "metadata": {
    "scrolled": false
   },
   "outputs": [
    {
     "name": "stderr",
     "output_type": "stream",
     "text": [
      "/home/opotowsky/.local/lib/python3.6/site-packages/ipykernel_launcher.py:44: UserWarning: Tight layout not applied. The left and right margins cannot be made large enough to accommodate all axes decorations. \n"
     ]
    },
    {
     "data": {
      "image/png": "[encoded data removed]",
      "text/plain": [
       "<Figure size 720x576 with 2 Axes>"
      ]
     },
     "metadata": {
      "needs_background": "light"
     },
     "output_type": "display_data"
    }
   ],
   "source": [
    "for i, unc in enumerate(uncs[1:3]):\n",
    "    zname = 'LLunc'+str(unc)\n",
    "    title = str(unc*100) + '% Uncertainty'\n",
    "    vmin = 0\n",
    "    vmax = stat_good['unc' + str(unc)].minmax[1]\n",
    "    plotme('g', ll['good'][['Burnup', 'CoolingTime', zname]], title, zname, vmin, vmax)"
   ]
  },
  {
   "cell_type": "code",
   "execution_count": 30,
   "metadata": {
    "scrolled": false
   },
   "outputs": [
    {
     "data": {
      "image/png": "[encoded data removed]",
      "text/plain": [
       "<Figure size 720x576 with 2 Axes>"
      ]
     },
     "metadata": {
      "needs_background": "light"
     },
     "output_type": "display_data"
    },
    {
     "data": {
      "text/plain": [
       "<Figure size 432x288 with 0 Axes>"
      ]
     },
     "metadata": {},
     "output_type": "display_data"
    },
    {
     "data": {
      "image/png": "[encoded data removed]",
      "text/plain": [
       "<Figure size 720x576 with 2 Axes>"
      ]
     },
     "metadata": {
      "needs_background": "light"
     },
     "output_type": "display_data"
    },
    {
     "data": {
      "text/plain": [
       "<Figure size 432x288 with 0 Axes>"
      ]
     },
     "metadata": {},
     "output_type": "display_data"
    },
    {
     "data": {
      "image/png": "[encoded data removed]",
      "text/plain": [
       "<Figure size 720x576 with 2 Axes>"
      ]
     },
     "metadata": {
      "needs_background": "light"
     },
     "output_type": "display_data"
    },
    {
     "data": {
      "text/plain": [
       "<Figure size 432x288 with 0 Axes>"
      ]
     },
     "metadata": {},
     "output_type": "display_data"
    },
    {
     "data": {
      "image/png": "[encoded data removed]",
      "text/plain": [
       "<Figure size 720x576 with 2 Axes>"
      ]
     },
     "metadata": {
      "needs_background": "light"
     },
     "output_type": "display_data"
    },
    {
     "data": {
      "text/plain": [
       "<Figure size 432x288 with 0 Axes>"
      ]
     },
     "metadata": {},
     "output_type": "display_data"
    }
   ],
   "source": [
    "for i, unc in enumerate(uncs[0:4]):\n",
    "    zname = 'LLunc'+str(unc)\n",
    "    title = str(unc*100) + '% Uncertainty'\n",
    "    vmin = 0#stat_bad['unc' + str(unc)].mean\n",
    "    vmax = stat_bad['unc' + str(unc)].minmax[1]\n",
    "    plotme('b', ll['bad'][['Burnup', 'CoolingTime', zname]], title, zname, vmin, vmax)"
   ]
  },
  {
   "cell_type": "markdown",
   "metadata": {},
   "source": [
    "# 4 Oct 2020 end of update\n",
    "\n",
    "## _______________________________"
   ]
  },
  {
   "cell_type": "markdown",
   "metadata": {},
   "source": [
    "# 3. Get LL Pred Results"
   ]
  },
  {
   "cell_type": "code",
   "execution_count": 102,
   "metadata": {},
   "outputs": [],
   "source": [
    "ll1 = 'LogLikelihood_0.05'\n",
    "ll2 = 'LogLikelihood_0.1'\n",
    "ll3 = 'LogLikelihood_0.15'\n",
    "ll4 = 'LogLikelihood_0.2'\n",
    "lu1 = 'LLUncertainty_0.05'\n",
    "lu2 = 'LLUncertainty_0.1'\n",
    "lu3 = 'LLUncertainty_0.15'\n",
    "lu4 = 'LLUncertainty_0.2'\n",
    "lls = [ll1, ll2, ll3, ll4]\n",
    "lus = [lu1, lu2, lu3, lu4]\n",
    "uncs = ['5% Uncertainty', '10% Uncertainty', '15% Uncertainty', '20% Uncertainty']"
   ]
  },
  {
   "cell_type": "code",
   "execution_count": 103,
   "metadata": {},
   "outputs": [
    {
     "data": {
      "text/html": [
       "<div>\n",
       "<style scoped>\n",
       "    .dataframe tbody tr th:only-of-type {\n",
       "        vertical-align: middle;\n",
       "    }\n",
       "\n",
       "    .dataframe tbody tr th {\n",
       "        vertical-align: top;\n",
       "    }\n",
       "\n",
       "    .dataframe thead th {\n",
       "        text-align: right;\n",
       "    }\n",
       "</style>\n",
       "<table border=\"1\" class=\"dataframe\">\n",
       "  <thead>\n",
       "    <tr style=\"text-align: right;\">\n",
       "      <th></th>\n",
       "      <th>Unnamed: 0</th>\n",
       "      <th>Burnup</th>\n",
       "      <th>CoolingTime</th>\n",
       "      <th>Enrichment</th>\n",
       "      <th>OrigenReactor</th>\n",
       "      <th>ReactorType</th>\n",
       "      <th>ba136</th>\n",
       "      <th>ba138</th>\n",
       "      <th>cs133</th>\n",
       "      <th>cs134</th>\n",
       "      <th>...</th>\n",
       "      <th>LLUncertainty_0.05</th>\n",
       "      <th>Likelihood0.1</th>\n",
       "      <th>LogLikelihood_0.1</th>\n",
       "      <th>LLUncertainty_0.1</th>\n",
       "      <th>Likelihood0.15</th>\n",
       "      <th>LogLikelihood_0.15</th>\n",
       "      <th>LLUncertainty_0.15</th>\n",
       "      <th>Likelihood0.2</th>\n",
       "      <th>LogLikelihood_0.2</th>\n",
       "      <th>LLUncertainty_0.2</th>\n",
       "    </tr>\n",
       "  </thead>\n",
       "  <tbody>\n",
       "    <tr>\n",
       "      <th>0</th>\n",
       "      <td>1</td>\n",
       "      <td>2006.54</td>\n",
       "      <td>0.000839</td>\n",
       "      <td>0.53</td>\n",
       "      <td>ce14x14</td>\n",
       "      <td>pwr</td>\n",
       "      <td>0.000593</td>\n",
       "      <td>0.6109</td>\n",
       "      <td>0.5142</td>\n",
       "      <td>0.002411</td>\n",
       "      <td>...</td>\n",
       "      <td>2.507794e+10</td>\n",
       "      <td>0.0</td>\n",
       "      <td>-6.276547e+10</td>\n",
       "      <td>1.253897e+10</td>\n",
       "      <td>0.0</td>\n",
       "      <td>-2.789577e+10</td>\n",
       "      <td>8.359314e+09</td>\n",
       "      <td>0.0</td>\n",
       "      <td>-1.569137e+10</td>\n",
       "      <td>6.269485e+09</td>\n",
       "    </tr>\n",
       "    <tr>\n",
       "      <th>1</th>\n",
       "      <td>2</td>\n",
       "      <td>2006.54</td>\n",
       "      <td>0.592485</td>\n",
       "      <td>0.53</td>\n",
       "      <td>ce14x14</td>\n",
       "      <td>pwr</td>\n",
       "      <td>0.000600</td>\n",
       "      <td>0.6114</td>\n",
       "      <td>0.5204</td>\n",
       "      <td>0.002411</td>\n",
       "      <td>...</td>\n",
       "      <td>2.507794e+10</td>\n",
       "      <td>0.0</td>\n",
       "      <td>-6.276537e+10</td>\n",
       "      <td>1.253897e+10</td>\n",
       "      <td>0.0</td>\n",
       "      <td>-2.789572e+10</td>\n",
       "      <td>8.359314e+09</td>\n",
       "      <td>0.0</td>\n",
       "      <td>-1.569134e+10</td>\n",
       "      <td>6.269485e+09</td>\n",
       "    </tr>\n",
       "    <tr>\n",
       "      <th>2</th>\n",
       "      <td>3</td>\n",
       "      <td>2006.54</td>\n",
       "      <td>1.109213</td>\n",
       "      <td>0.53</td>\n",
       "      <td>ce14x14</td>\n",
       "      <td>pwr</td>\n",
       "      <td>0.000607</td>\n",
       "      <td>0.6114</td>\n",
       "      <td>0.5256</td>\n",
       "      <td>0.002410</td>\n",
       "      <td>...</td>\n",
       "      <td>2.507794e+10</td>\n",
       "      <td>0.0</td>\n",
       "      <td>-6.276530e+10</td>\n",
       "      <td>1.253897e+10</td>\n",
       "      <td>0.0</td>\n",
       "      <td>-2.789569e+10</td>\n",
       "      <td>8.359314e+09</td>\n",
       "      <td>0.0</td>\n",
       "      <td>-1.569132e+10</td>\n",
       "      <td>6.269485e+09</td>\n",
       "    </tr>\n",
       "    <tr>\n",
       "      <th>3</th>\n",
       "      <td>4</td>\n",
       "      <td>2006.54</td>\n",
       "      <td>8.460400</td>\n",
       "      <td>0.53</td>\n",
       "      <td>ce14x14</td>\n",
       "      <td>pwr</td>\n",
       "      <td>0.000681</td>\n",
       "      <td>0.6114</td>\n",
       "      <td>0.5759</td>\n",
       "      <td>0.002394</td>\n",
       "      <td>...</td>\n",
       "      <td>2.507794e+10</td>\n",
       "      <td>0.0</td>\n",
       "      <td>-6.276469e+10</td>\n",
       "      <td>1.253897e+10</td>\n",
       "      <td>0.0</td>\n",
       "      <td>-2.789542e+10</td>\n",
       "      <td>8.359314e+09</td>\n",
       "      <td>0.0</td>\n",
       "      <td>-1.569117e+10</td>\n",
       "      <td>6.269485e+09</td>\n",
       "    </tr>\n",
       "    <tr>\n",
       "      <th>4</th>\n",
       "      <td>5</td>\n",
       "      <td>2006.54</td>\n",
       "      <td>38.415629</td>\n",
       "      <td>0.53</td>\n",
       "      <td>ce14x14</td>\n",
       "      <td>pwr</td>\n",
       "      <td>0.000806</td>\n",
       "      <td>0.6114</td>\n",
       "      <td>0.6069</td>\n",
       "      <td>0.002329</td>\n",
       "      <td>...</td>\n",
       "      <td>2.507794e+10</td>\n",
       "      <td>0.0</td>\n",
       "      <td>-6.276476e+10</td>\n",
       "      <td>1.253897e+10</td>\n",
       "      <td>0.0</td>\n",
       "      <td>-2.789545e+10</td>\n",
       "      <td>8.359314e+09</td>\n",
       "      <td>0.0</td>\n",
       "      <td>-1.569119e+10</td>\n",
       "      <td>6.269486e+09</td>\n",
       "    </tr>\n",
       "  </tbody>\n",
       "</table>\n",
       "<p>5 rows × 33 columns</p>\n",
       "</div>"
      ],
      "text/plain": [
       "   Unnamed: 0   Burnup  CoolingTime  Enrichment OrigenReactor ReactorType  \\\n",
       "0           1  2006.54     0.000839        0.53       ce14x14         pwr   \n",
       "1           2  2006.54     0.592485        0.53       ce14x14         pwr   \n",
       "2           3  2006.54     1.109213        0.53       ce14x14         pwr   \n",
       "3           4  2006.54     8.460400        0.53       ce14x14         pwr   \n",
       "4           5  2006.54    38.415629        0.53       ce14x14         pwr   \n",
       "\n",
       "      ba136   ba138   cs133     cs134  ...  LLUncertainty_0.05  Likelihood0.1  \\\n",
       "0  0.000593  0.6109  0.5142  0.002411  ...        2.507794e+10            0.0   \n",
       "1  0.000600  0.6114  0.5204  0.002411  ...        2.507794e+10            0.0   \n",
       "2  0.000607  0.6114  0.5256  0.002410  ...        2.507794e+10            0.0   \n",
       "3  0.000681  0.6114  0.5759  0.002394  ...        2.507794e+10            0.0   \n",
       "4  0.000806  0.6114  0.6069  0.002329  ...        2.507794e+10            0.0   \n",
       "\n",
       "   LogLikelihood_0.1  LLUncertainty_0.1  Likelihood0.15  LogLikelihood_0.15  \\\n",
       "0      -6.276547e+10       1.253897e+10             0.0       -2.789577e+10   \n",
       "1      -6.276537e+10       1.253897e+10             0.0       -2.789572e+10   \n",
       "2      -6.276530e+10       1.253897e+10             0.0       -2.789569e+10   \n",
       "3      -6.276469e+10       1.253897e+10             0.0       -2.789542e+10   \n",
       "4      -6.276476e+10       1.253897e+10             0.0       -2.789545e+10   \n",
       "\n",
       "   LLUncertainty_0.15  Likelihood0.2  LogLikelihood_0.2  LLUncertainty_0.2  \n",
       "0        8.359314e+09            0.0      -1.569137e+10       6.269485e+09  \n",
       "1        8.359314e+09            0.0      -1.569134e+10       6.269485e+09  \n",
       "2        8.359314e+09            0.0      -1.569132e+10       6.269485e+09  \n",
       "3        8.359314e+09            0.0      -1.569117e+10       6.269485e+09  \n",
       "4        8.359314e+09            0.0      -1.569119e+10       6.269486e+09  \n",
       "\n",
       "[5 rows x 33 columns]"
      ]
     },
     "execution_count": 103,
     "metadata": {},
     "output_type": "execute_result"
    }
   ],
   "source": [
    "fullXY.head()"
   ]
  },
  {
   "cell_type": "markdown",
   "metadata": {},
   "source": [
    "## Reactor Prediction"
   ]
  },
  {
   "cell_type": "code",
   "execution_count": 104,
   "metadata": {},
   "outputs": [
    {
     "data": {
      "text/html": [
       "<div>\n",
       "<style scoped>\n",
       "    .dataframe tbody tr th:only-of-type {\n",
       "        vertical-align: middle;\n",
       "    }\n",
       "\n",
       "    .dataframe tbody tr th {\n",
       "        vertical-align: top;\n",
       "    }\n",
       "\n",
       "    .dataframe thead th {\n",
       "        text-align: right;\n",
       "    }\n",
       "</style>\n",
       "<table border=\"1\" class=\"dataframe\">\n",
       "  <thead>\n",
       "    <tr style=\"text-align: right;\">\n",
       "      <th></th>\n",
       "      <th>LogLikelihood_0.05</th>\n",
       "      <th>LLUncertainty_0.05</th>\n",
       "      <th>LogLikelihood_0.1</th>\n",
       "      <th>LLUncertainty_0.1</th>\n",
       "      <th>LogLikelihood_0.15</th>\n",
       "      <th>LLUncertainty_0.15</th>\n",
       "      <th>LogLikelihood_0.2</th>\n",
       "      <th>LLUncertainty_0.2</th>\n",
       "    </tr>\n",
       "  </thead>\n",
       "  <tbody>\n",
       "    <tr>\n",
       "      <th>pwr</th>\n",
       "      <td>18.967565</td>\n",
       "      <td>3.254686</td>\n",
       "      <td>10.520009</td>\n",
       "      <td>1.627343</td>\n",
       "      <td>5.024011</td>\n",
       "      <td>1.508366</td>\n",
       "      <td>0.943795</td>\n",
       "      <td>1.131275</td>\n",
       "    </tr>\n",
       "    <tr>\n",
       "      <th>bwr</th>\n",
       "      <td>2.344970</td>\n",
       "      <td>8.902489</td>\n",
       "      <td>6.566396</td>\n",
       "      <td>4.451245</td>\n",
       "      <td>3.208129</td>\n",
       "      <td>3.008143</td>\n",
       "      <td>-0.083764</td>\n",
       "      <td>2.718742</td>\n",
       "    </tr>\n",
       "    <tr>\n",
       "      <th>phwr</th>\n",
       "      <td>-451595.105989</td>\n",
       "      <td>37524.646638</td>\n",
       "      <td>-112875.317334</td>\n",
       "      <td>18762.323319</td>\n",
       "      <td>-50153.587113</td>\n",
       "      <td>12508.215546</td>\n",
       "      <td>-28203.168076</td>\n",
       "      <td>9381.161659</td>\n",
       "    </tr>\n",
       "  </tbody>\n",
       "</table>\n",
       "</div>"
      ],
      "text/plain": [
       "      LogLikelihood_0.05  LLUncertainty_0.05  LogLikelihood_0.1  \\\n",
       "pwr            18.967565            3.254686          10.520009   \n",
       "bwr             2.344970            8.902489           6.566396   \n",
       "phwr      -451595.105989        37524.646638     -112875.317334   \n",
       "\n",
       "      LLUncertainty_0.1  LogLikelihood_0.15  LLUncertainty_0.15  \\\n",
       "pwr            1.627343            5.024011            1.508366   \n",
       "bwr            4.451245            3.208129            3.008143   \n",
       "phwr       18762.323319       -50153.587113        12508.215546   \n",
       "\n",
       "      LogLikelihood_0.2  LLUncertainty_0.2  \n",
       "pwr            0.943795           1.131275  \n",
       "bwr           -0.083764           2.718742  \n",
       "phwr      -28203.168076        9381.161659  "
      ]
     },
     "execution_count": 104,
     "metadata": {},
     "output_type": "execute_result"
    }
   ],
   "source": [
    "data = {}\n",
    "idx = {}\n",
    "for ll, lu in zip(lls, lus):\n",
    "    max_pwr = fullXY[ll].loc[fullXY['ReactorType'] == 'pwr'].max()\n",
    "    idx_pwr = fullXY[ll].loc[fullXY['ReactorType'] == 'pwr'].idxmax()\n",
    "    unc_pwr = float(fullXY[lu].loc[fullXY.index == idx_pwr])\n",
    "    max_bwr = fullXY[ll].loc[fullXY['ReactorType'] == 'bwr'].max()\n",
    "    idx_bwr = fullXY[ll].loc[fullXY['ReactorType'] == 'bwr'].idxmax()\n",
    "    unc_bwr = float(fullXY[lu].loc[fullXY.index == idx_bwr])\n",
    "    max_phwr = fullXY[ll].loc[fullXY['ReactorType'] == 'phwr'].max()\n",
    "    idx_phwr = fullXY[ll].loc[fullXY['ReactorType'] == 'phwr'].idxmax()\n",
    "    unc_phwr = float(fullXY[lu].loc[fullXY.index == idx_phwr])\n",
    "    data[ll] = [max_pwr, max_bwr, max_phwr]\n",
    "    data[lu] = [unc_pwr, unc_bwr, unc_phwr]\n",
    "    idx[ll] = [idx_pwr, idx_bwr, idx_phwr]\n",
    "rxtr = pd.DataFrame(data, columns=[ll1, lu1, ll2, lu2, ll3, lu3, ll4, lu4], index=['pwr', 'bwr', 'phwr'])\n",
    "rxtr"
   ]
  },
  {
   "cell_type": "code",
   "execution_count": 105,
   "metadata": {},
   "outputs": [
    {
     "data": {
      "text/plain": [
       "{'LogLikelihood_0.05': [2831, 21324, 24672],\n",
       " 'LogLikelihood_0.1': [2831, 21324, 24672],\n",
       " 'LogLikelihood_0.15': [3893, 21315, 24672],\n",
       " 'LogLikelihood_0.2': [3893, 14034, 24672]}"
      ]
     },
     "execution_count": 105,
     "metadata": {},
     "output_type": "execute_result"
    }
   ],
   "source": [
    "idx"
   ]
  },
  {
   "cell_type": "code",
   "execution_count": 106,
   "metadata": {},
   "outputs": [
    {
     "name": "stdout",
     "output_type": "stream",
     "text": [
      "LogLikelihood_0.05\n",
      "     ReactorType    Burnup  CoolingTime\n",
      "2831         pwr  40412.05   392.313045\n",
      "      ReactorType    Burnup  CoolingTime\n",
      "21324         bwr  37521.68    34.458875\n",
      "      ReactorType    Burnup  CoolingTime\n",
      "24672        phwr  13678.58     5.662128\n",
      "LogLikelihood_0.1\n",
      "     ReactorType    Burnup  CoolingTime\n",
      "2831         pwr  40412.05   392.313045\n",
      "      ReactorType    Burnup  CoolingTime\n",
      "21324         bwr  37521.68    34.458875\n",
      "      ReactorType    Burnup  CoolingTime\n",
      "24672        phwr  13678.58     5.662128\n",
      "LogLikelihood_0.15\n",
      "     ReactorType    Burnup  CoolingTime\n",
      "3893         pwr  39013.38   343.237299\n",
      "      ReactorType    Burnup  CoolingTime\n",
      "21315         bwr  37361.88    34.458875\n",
      "      ReactorType    Burnup  CoolingTime\n",
      "24672        phwr  13678.58     5.662128\n",
      "LogLikelihood_0.2\n",
      "     ReactorType    Burnup  CoolingTime\n",
      "3893         pwr  39013.38   343.237299\n",
      "      ReactorType    Burnup  CoolingTime\n",
      "14034         bwr  36727.11    37.125682\n",
      "      ReactorType    Burnup  CoolingTime\n",
      "24672        phwr  13678.58     5.662128\n"
     ]
    }
   ],
   "source": [
    "for ll in lls:\n",
    "    print(ll)\n",
    "    for i, index in enumerate(idx[ll]):\n",
    "        print(fullXY.loc[fullXY.index == idx[ll][i], ['ReactorType', 'Burnup', 'CoolingTime']])"
   ]
  },
  {
   "cell_type": "code",
   "execution_count": 71,
   "metadata": {},
   "outputs": [
    {
     "data": {
      "text/plain": [
       "(68.62441895096356, 20912)"
      ]
     },
     "execution_count": 71,
     "metadata": {},
     "output_type": "execute_result"
    }
   ],
   "source": [
    "max_tot = fullXY[ll1].max()\n",
    "idx = fullXY[ll1].idxmax()\n",
    "max_tot, idx"
   ]
  },
  {
   "cell_type": "code",
   "execution_count": 94,
   "metadata": {},
   "outputs": [
    {
     "data": {
      "text/html": [
       "<div>\n",
       "<style scoped>\n",
       "    .dataframe tbody tr th:only-of-type {\n",
       "        vertical-align: middle;\n",
       "    }\n",
       "\n",
       "    .dataframe tbody tr th {\n",
       "        vertical-align: top;\n",
       "    }\n",
       "\n",
       "    .dataframe thead th {\n",
       "        text-align: right;\n",
       "    }\n",
       "</style>\n",
       "<table border=\"1\" class=\"dataframe\">\n",
       "  <thead>\n",
       "    <tr style=\"text-align: right;\">\n",
       "      <th></th>\n",
       "      <th>ReactorType</th>\n",
       "      <th>CoolingTime</th>\n",
       "      <th>Enrichment</th>\n",
       "      <th>Burnup</th>\n",
       "      <th>OrigenReactor</th>\n",
       "    </tr>\n",
       "  </thead>\n",
       "  <tbody>\n",
       "    <tr>\n",
       "      <th>13379</th>\n",
       "      <td>bwr</td>\n",
       "      <td>2690.358732</td>\n",
       "      <td>2.88</td>\n",
       "      <td>2010.26</td>\n",
       "      <td>ge9x9-2</td>\n",
       "    </tr>\n",
       "  </tbody>\n",
       "</table>\n",
       "</div>"
      ],
      "text/plain": [
       "      ReactorType  CoolingTime  Enrichment   Burnup OrigenReactor\n",
       "13379         bwr  2690.358732        2.88  2010.26       ge9x9-2"
      ]
     },
     "execution_count": 94,
     "metadata": {},
     "output_type": "execute_result"
    }
   ],
   "source": [
    "sim_idx = 13379\n",
    "top_answer = fullXY.loc[fullXY.index == sim_idx, lbls]\n",
    "top_answer"
   ]
  },
  {
   "cell_type": "code",
   "execution_count": 90,
   "metadata": {},
   "outputs": [
    {
     "data": {
      "text/html": [
       "<div>\n",
       "<style scoped>\n",
       "    .dataframe tbody tr th:only-of-type {\n",
       "        vertical-align: middle;\n",
       "    }\n",
       "\n",
       "    .dataframe tbody tr th {\n",
       "        vertical-align: top;\n",
       "    }\n",
       "\n",
       "    .dataframe thead th {\n",
       "        text-align: right;\n",
       "    }\n",
       "</style>\n",
       "<table border=\"1\" class=\"dataframe\">\n",
       "  <thead>\n",
       "    <tr style=\"text-align: right;\">\n",
       "      <th></th>\n",
       "      <th>ReactorType</th>\n",
       "      <th>CoolingTime</th>\n",
       "      <th>Enrichment</th>\n",
       "      <th>Burnup</th>\n",
       "      <th>OrigenReactor</th>\n",
       "    </tr>\n",
       "  </thead>\n",
       "  <tbody>\n",
       "    <tr>\n",
       "      <th>10522</th>\n",
       "      <td>bwr</td>\n",
       "      <td>2421.282899</td>\n",
       "      <td>2.89</td>\n",
       "      <td>2024.53</td>\n",
       "      <td>ge7x7-0</td>\n",
       "    </tr>\n",
       "  </tbody>\n",
       "</table>\n",
       "</div>"
      ],
      "text/plain": [
       "      ReactorType  CoolingTime  Enrichment   Burnup OrigenReactor\n",
       "10522         bwr  2421.282899        2.89  2024.53       ge7x7-0"
      ]
     },
     "execution_count": 90,
     "metadata": {},
     "output_type": "execute_result"
    }
   ],
   "source": [
    "sim_idx = 10522\n",
    "top_answer = XY.loc[XY.index == sim_idx, lbls]\n",
    "top_answer"
   ]
  },
  {
   "cell_type": "code",
   "execution_count": 82,
   "metadata": {},
   "outputs": [],
   "source": [
    "xy = pd.read_csv('likelihood_idx5010_15nucs_opusupdate-aug2019.csv')"
   ]
  },
  {
   "cell_type": "code",
   "execution_count": 83,
   "metadata": {},
   "outputs": [
    {
     "data": {
      "text/html": [
       "<div>\n",
       "<style scoped>\n",
       "    .dataframe tbody tr th:only-of-type {\n",
       "        vertical-align: middle;\n",
       "    }\n",
       "\n",
       "    .dataframe tbody tr th {\n",
       "        vertical-align: top;\n",
       "    }\n",
       "\n",
       "    .dataframe thead th {\n",
       "        text-align: right;\n",
       "    }\n",
       "</style>\n",
       "<table border=\"1\" class=\"dataframe\">\n",
       "  <thead>\n",
       "    <tr style=\"text-align: right;\">\n",
       "      <th></th>\n",
       "      <th>Unnamed: 0</th>\n",
       "      <th>Burnup</th>\n",
       "      <th>CoolingTime</th>\n",
       "      <th>Enrichment</th>\n",
       "      <th>OrigenReactor</th>\n",
       "      <th>ReactorType</th>\n",
       "      <th>ba136</th>\n",
       "      <th>ba138</th>\n",
       "      <th>cs133</th>\n",
       "      <th>cs134</th>\n",
       "      <th>...</th>\n",
       "      <th>LLUncertainty_0.05</th>\n",
       "      <th>Likelihood0.1</th>\n",
       "      <th>LogLikelihood_0.1</th>\n",
       "      <th>LLUncertainty_0.1</th>\n",
       "      <th>Likelihood0.15</th>\n",
       "      <th>LogLikelihood_0.15</th>\n",
       "      <th>LLUncertainty_0.15</th>\n",
       "      <th>Likelihood0.2</th>\n",
       "      <th>LogLikelihood_0.2</th>\n",
       "      <th>LLUncertainty_0.2</th>\n",
       "    </tr>\n",
       "  </thead>\n",
       "  <tbody>\n",
       "    <tr>\n",
       "      <th>0</th>\n",
       "      <td>1</td>\n",
       "      <td>2006.54</td>\n",
       "      <td>0.000839</td>\n",
       "      <td>0.53</td>\n",
       "      <td>ce14x14</td>\n",
       "      <td>pwr</td>\n",
       "      <td>0.000593</td>\n",
       "      <td>0.6109</td>\n",
       "      <td>0.5142</td>\n",
       "      <td>0.002411</td>\n",
       "      <td>...</td>\n",
       "      <td>2.507794e+10</td>\n",
       "      <td>0.0</td>\n",
       "      <td>-6.276547e+10</td>\n",
       "      <td>1.253897e+10</td>\n",
       "      <td>0.0</td>\n",
       "      <td>-2.789577e+10</td>\n",
       "      <td>8.359314e+09</td>\n",
       "      <td>0.0</td>\n",
       "      <td>-1.569137e+10</td>\n",
       "      <td>6.269485e+09</td>\n",
       "    </tr>\n",
       "    <tr>\n",
       "      <th>1</th>\n",
       "      <td>2</td>\n",
       "      <td>2006.54</td>\n",
       "      <td>0.592485</td>\n",
       "      <td>0.53</td>\n",
       "      <td>ce14x14</td>\n",
       "      <td>pwr</td>\n",
       "      <td>0.000600</td>\n",
       "      <td>0.6114</td>\n",
       "      <td>0.5204</td>\n",
       "      <td>0.002411</td>\n",
       "      <td>...</td>\n",
       "      <td>2.507794e+10</td>\n",
       "      <td>0.0</td>\n",
       "      <td>-6.276537e+10</td>\n",
       "      <td>1.253897e+10</td>\n",
       "      <td>0.0</td>\n",
       "      <td>-2.789572e+10</td>\n",
       "      <td>8.359314e+09</td>\n",
       "      <td>0.0</td>\n",
       "      <td>-1.569134e+10</td>\n",
       "      <td>6.269485e+09</td>\n",
       "    </tr>\n",
       "    <tr>\n",
       "      <th>2</th>\n",
       "      <td>3</td>\n",
       "      <td>2006.54</td>\n",
       "      <td>1.109213</td>\n",
       "      <td>0.53</td>\n",
       "      <td>ce14x14</td>\n",
       "      <td>pwr</td>\n",
       "      <td>0.000607</td>\n",
       "      <td>0.6114</td>\n",
       "      <td>0.5256</td>\n",
       "      <td>0.002410</td>\n",
       "      <td>...</td>\n",
       "      <td>2.507794e+10</td>\n",
       "      <td>0.0</td>\n",
       "      <td>-6.276530e+10</td>\n",
       "      <td>1.253897e+10</td>\n",
       "      <td>0.0</td>\n",
       "      <td>-2.789569e+10</td>\n",
       "      <td>8.359314e+09</td>\n",
       "      <td>0.0</td>\n",
       "      <td>-1.569132e+10</td>\n",
       "      <td>6.269485e+09</td>\n",
       "    </tr>\n",
       "    <tr>\n",
       "      <th>3</th>\n",
       "      <td>4</td>\n",
       "      <td>2006.54</td>\n",
       "      <td>8.460400</td>\n",
       "      <td>0.53</td>\n",
       "      <td>ce14x14</td>\n",
       "      <td>pwr</td>\n",
       "      <td>0.000681</td>\n",
       "      <td>0.6114</td>\n",
       "      <td>0.5759</td>\n",
       "      <td>0.002394</td>\n",
       "      <td>...</td>\n",
       "      <td>2.507794e+10</td>\n",
       "      <td>0.0</td>\n",
       "      <td>-6.276469e+10</td>\n",
       "      <td>1.253897e+10</td>\n",
       "      <td>0.0</td>\n",
       "      <td>-2.789542e+10</td>\n",
       "      <td>8.359314e+09</td>\n",
       "      <td>0.0</td>\n",
       "      <td>-1.569117e+10</td>\n",
       "      <td>6.269485e+09</td>\n",
       "    </tr>\n",
       "    <tr>\n",
       "      <th>4</th>\n",
       "      <td>5</td>\n",
       "      <td>2006.54</td>\n",
       "      <td>38.415629</td>\n",
       "      <td>0.53</td>\n",
       "      <td>ce14x14</td>\n",
       "      <td>pwr</td>\n",
       "      <td>0.000806</td>\n",
       "      <td>0.6114</td>\n",
       "      <td>0.6069</td>\n",
       "      <td>0.002329</td>\n",
       "      <td>...</td>\n",
       "      <td>2.507794e+10</td>\n",
       "      <td>0.0</td>\n",
       "      <td>-6.276476e+10</td>\n",
       "      <td>1.253897e+10</td>\n",
       "      <td>0.0</td>\n",
       "      <td>-2.789545e+10</td>\n",
       "      <td>8.359314e+09</td>\n",
       "      <td>0.0</td>\n",
       "      <td>-1.569119e+10</td>\n",
       "      <td>6.269486e+09</td>\n",
       "    </tr>\n",
       "  </tbody>\n",
       "</table>\n",
       "<p>5 rows × 33 columns</p>\n",
       "</div>"
      ],
      "text/plain": [
       "   Unnamed: 0   Burnup  CoolingTime  Enrichment OrigenReactor ReactorType  \\\n",
       "0           1  2006.54     0.000839        0.53       ce14x14         pwr   \n",
       "1           2  2006.54     0.592485        0.53       ce14x14         pwr   \n",
       "2           3  2006.54     1.109213        0.53       ce14x14         pwr   \n",
       "3           4  2006.54     8.460400        0.53       ce14x14         pwr   \n",
       "4           5  2006.54    38.415629        0.53       ce14x14         pwr   \n",
       "\n",
       "      ba136   ba138   cs133     cs134  ...  LLUncertainty_0.05  Likelihood0.1  \\\n",
       "0  0.000593  0.6109  0.5142  0.002411  ...        2.507794e+10            0.0   \n",
       "1  0.000600  0.6114  0.5204  0.002411  ...        2.507794e+10            0.0   \n",
       "2  0.000607  0.6114  0.5256  0.002410  ...        2.507794e+10            0.0   \n",
       "3  0.000681  0.6114  0.5759  0.002394  ...        2.507794e+10            0.0   \n",
       "4  0.000806  0.6114  0.6069  0.002329  ...        2.507794e+10            0.0   \n",
       "\n",
       "   LogLikelihood_0.1  LLUncertainty_0.1  Likelihood0.15  LogLikelihood_0.15  \\\n",
       "0      -6.276547e+10       1.253897e+10             0.0       -2.789577e+10   \n",
       "1      -6.276537e+10       1.253897e+10             0.0       -2.789572e+10   \n",
       "2      -6.276530e+10       1.253897e+10             0.0       -2.789569e+10   \n",
       "3      -6.276469e+10       1.253897e+10             0.0       -2.789542e+10   \n",
       "4      -6.276476e+10       1.253897e+10             0.0       -2.789545e+10   \n",
       "\n",
       "   LLUncertainty_0.15  Likelihood0.2  LogLikelihood_0.2  LLUncertainty_0.2  \n",
       "0        8.359314e+09            0.0      -1.569137e+10       6.269485e+09  \n",
       "1        8.359314e+09            0.0      -1.569134e+10       6.269485e+09  \n",
       "2        8.359314e+09            0.0      -1.569132e+10       6.269485e+09  \n",
       "3        8.359314e+09            0.0      -1.569117e+10       6.269485e+09  \n",
       "4        8.359314e+09            0.0      -1.569119e+10       6.269486e+09  \n",
       "\n",
       "[5 rows x 33 columns]"
      ]
     },
     "execution_count": 83,
     "metadata": {},
     "output_type": "execute_result"
    }
   ],
   "source": [
    "xy.head()"
   ]
  },
  {
   "cell_type": "code",
   "execution_count": 85,
   "metadata": {},
   "outputs": [
    {
     "data": {
      "text/plain": [
       "(18.967564797385485, 2831)"
      ]
     },
     "execution_count": 85,
     "metadata": {},
     "output_type": "execute_result"
    }
   ],
   "source": [
    "max_tot = xy[ll1].max()\n",
    "idx = xy[ll1].idxmax()\n",
    "max_tot, idx"
   ]
  },
  {
   "cell_type": "code",
   "execution_count": 86,
   "metadata": {},
   "outputs": [
    {
     "data": {
      "text/html": [
       "<div>\n",
       "<style scoped>\n",
       "    .dataframe tbody tr th:only-of-type {\n",
       "        vertical-align: middle;\n",
       "    }\n",
       "\n",
       "    .dataframe tbody tr th {\n",
       "        vertical-align: top;\n",
       "    }\n",
       "\n",
       "    .dataframe thead th {\n",
       "        text-align: right;\n",
       "    }\n",
       "</style>\n",
       "<table border=\"1\" class=\"dataframe\">\n",
       "  <thead>\n",
       "    <tr style=\"text-align: right;\">\n",
       "      <th></th>\n",
       "      <th>ReactorType</th>\n",
       "      <th>CoolingTime</th>\n",
       "      <th>Enrichment</th>\n",
       "      <th>Burnup</th>\n",
       "      <th>OrigenReactor</th>\n",
       "    </tr>\n",
       "  </thead>\n",
       "  <tbody>\n",
       "    <tr>\n",
       "      <th>2831</th>\n",
       "      <td>pwr</td>\n",
       "      <td>392.313045</td>\n",
       "      <td>3.07</td>\n",
       "      <td>40412.05</td>\n",
       "      <td>w14x14</td>\n",
       "    </tr>\n",
       "  </tbody>\n",
       "</table>\n",
       "</div>"
      ],
      "text/plain": [
       "     ReactorType  CoolingTime  Enrichment    Burnup OrigenReactor\n",
       "2831         pwr   392.313045        3.07  40412.05        w14x14"
      ]
     },
     "execution_count": 86,
     "metadata": {},
     "output_type": "execute_result"
    }
   ],
   "source": [
    "sim_idx = 2831\n",
    "top_answer = xy.loc[xy.index == sim_idx, lbls]\n",
    "top_answer"
   ]
  },
  {
   "cell_type": "code",
   "execution_count": null,
   "metadata": {},
   "outputs": [],
   "source": []
  }
 ],
 "metadata": {
  "kernelspec": {
   "display_name": "Python 3",
   "language": "python",
   "name": "python3"
  },
  "language_info": {
   "codemirror_mode": {
    "name": "ipython",
    "version": 3
   },
   "file_extension": ".py",
   "mimetype": "text/x-python",
   "name": "python",
   "nbconvert_exporter": "python",
   "pygments_lexer": "ipython3",
   "version": "3.6.9"
  }
 },
 "nbformat": 4,
 "nbformat_minor": 2
}
