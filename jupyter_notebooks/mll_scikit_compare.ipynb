{
 "cells": [
  {
   "cell_type": "code",
   "execution_count": 1,
   "metadata": {},
   "outputs": [],
   "source": [
    "import numpy as np\n",
    "import pandas as pd\n",
    "from sklearn.metrics import accuracy_score, explained_variance_score, mean_absolute_error"
   ]
  },
  {
   "cell_type": "code",
   "execution_count": 3,
   "metadata": {},
   "outputs": [],
   "source": [
    "preds = {'rxtr': 'reactor', 'burn' : 'burnup', 'cool' : 'cooling', 'enri' : 'enrichment'}\n",
    "algs = ['knn', 'dtree']\n",
    "fracs = ['0.1', '0.3', '1.0']\n",
    "mll_frac = '1.0'\n",
    "learn29 = {}\n",
    "base = '~/sims_n_results/final_sims_nov2020/'\n",
    "sci_path = base + 'scikit/sfco/'\n",
    "path_end = '_nuc29_ext_test_compare.csv'\n",
    "for frac in fracs:\n",
    "    for p, pred in preds.items():\n",
    "        for alg in algs:\n",
    "            key = p + frac + '_' + alg\n",
    "            mid = pred + '_' + alg + '_tset' + frac\n",
    "            learn29[key] = pd.read_csv(sci_path + mid + path_end, index_col=0)\n",
    "\n",
    "mll29 = pd.read_csv(base + 'mll/sfco/Job0_unc0.05/Job0_unc0.05.csv', index_col=0)"
   ]
  },
  {
   "cell_type": "code",
   "execution_count": 4,
   "metadata": {},
   "outputs": [
    {
     "data": {
      "text/html": [
       "<div>\n",
       "<style scoped>\n",
       "    .dataframe tbody tr th:only-of-type {\n",
       "        vertical-align: middle;\n",
       "    }\n",
       "\n",
       "    .dataframe tbody tr th {\n",
       "        vertical-align: top;\n",
       "    }\n",
       "\n",
       "    .dataframe thead th {\n",
       "        text-align: right;\n",
       "    }\n",
       "</style>\n",
       "<table border=\"1\" class=\"dataframe\">\n",
       "  <thead>\n",
       "    <tr style=\"text-align: right;\">\n",
       "      <th></th>\n",
       "      <th>TrueY</th>\n",
       "      <th>kNN</th>\n",
       "    </tr>\n",
       "  </thead>\n",
       "  <tbody>\n",
       "    <tr>\n",
       "      <th>0</th>\n",
       "      <td>pwr</td>\n",
       "      <td>bwr</td>\n",
       "    </tr>\n",
       "  </tbody>\n",
       "</table>\n",
       "</div>"
      ],
      "text/plain": [
       "  TrueY  kNN\n",
       "0   pwr  bwr"
      ]
     },
     "execution_count": 4,
     "metadata": {},
     "output_type": "execute_result"
    }
   ],
   "source": [
    "learn29['rxtr0.1_knn'].head(1)"
   ]
  },
  {
   "cell_type": "code",
   "execution_count": 6,
   "metadata": {},
   "outputs": [
    {
     "data": {
      "text/plain": [
       "['kNN', 'DTree', 'MaxLL']"
      ]
     },
     "execution_count": 6,
     "metadata": {},
     "output_type": "execute_result"
    }
   ],
   "source": [
    "Algs = ['kNN', 'DTree']\n",
    "cols = Algs + ['MaxLL']\n",
    "cols"
   ]
  },
  {
   "cell_type": "code",
   "execution_count": null,
   "metadata": {},
   "outputs": [],
   "source": []
  },
  {
   "cell_type": "code",
   "execution_count": 9,
   "metadata": {},
   "outputs": [
    {
     "name": "stdout",
     "output_type": "stream",
     "text": [
      "Reactor Type, 29 Nuclides: \n",
      "\n"
     ]
    },
    {
     "data": {
      "text/html": [
       "<div>\n",
       "<style scoped>\n",
       "    .dataframe tbody tr th:only-of-type {\n",
       "        vertical-align: middle;\n",
       "    }\n",
       "\n",
       "    .dataframe tbody tr th {\n",
       "        vertical-align: top;\n",
       "    }\n",
       "\n",
       "    .dataframe thead th {\n",
       "        text-align: right;\n",
       "    }\n",
       "</style>\n",
       "<table border=\"1\" class=\"dataframe\">\n",
       "  <thead>\n",
       "    <tr style=\"text-align: right;\">\n",
       "      <th></th>\n",
       "      <th>kNN</th>\n",
       "      <th>DTree</th>\n",
       "      <th>MaxLL</th>\n",
       "    </tr>\n",
       "  </thead>\n",
       "  <tbody>\n",
       "    <tr>\n",
       "      <th>0.1</th>\n",
       "      <td>0.582178</td>\n",
       "      <td>0.443564</td>\n",
       "      <td>NaN</td>\n",
       "    </tr>\n",
       "    <tr>\n",
       "      <th>0.3</th>\n",
       "      <td>0.570297</td>\n",
       "      <td>0.172277</td>\n",
       "      <td>NaN</td>\n",
       "    </tr>\n",
       "    <tr>\n",
       "      <th>1.0</th>\n",
       "      <td>0.584158</td>\n",
       "      <td>0.512871</td>\n",
       "      <td>0.718812</td>\n",
       "    </tr>\n",
       "  </tbody>\n",
       "</table>\n",
       "</div>"
      ],
      "text/plain": [
       "          kNN     DTree     MaxLL\n",
       "0.1  0.582178  0.443564       NaN\n",
       "0.3  0.570297  0.172277       NaN\n",
       "1.0  0.584158  0.512871  0.718812"
      ]
     },
     "execution_count": 9,
     "metadata": {},
     "output_type": "execute_result"
    }
   ],
   "source": [
    "rxtr29 = pd.DataFrame(columns=cols)\n",
    "for frac in fracs:\n",
    "    scores29 = []\n",
    "    for col in cols:\n",
    "        if col in Algs:\n",
    "            key = 'rxtr' + frac\n",
    "            if 'kNN' in col:\n",
    "                key = key + '_knn'\n",
    "                scores29.append(accuracy_score(learn29[key]['TrueY'], learn29[key]['kNN']))\n",
    "            else:\n",
    "                key = key + '_dtree'\n",
    "                scores29.append(accuracy_score(learn29[key]['TrueY'], learn29[key]['DTree']))\n",
    "        else:\n",
    "            if frac == mll_frac:\n",
    "                scores29.append(accuracy_score(mll29['ReactorType'], mll29['pred_ReactorType']))\n",
    "            else:\n",
    "                scores29.append(np.nan)\n",
    "    rxtr29.loc[frac] = scores29\n",
    "print('Reactor Type, 29 Nuclides: \\n')\n",
    "rxtr29"
   ]
  },
  {
   "cell_type": "code",
   "execution_count": 10,
   "metadata": {},
   "outputs": [],
   "source": [
    "llparam = { 'burn' : ['Burnup', 'pred_Burnup'],\n",
    "            'cool' : ['CoolingTime', 'pred_CoolingTime'],\n",
    "            'enri' : ['Enrichment', 'pred_Enrichment'] }"
   ]
  },
  {
   "cell_type": "code",
   "execution_count": 15,
   "metadata": {},
   "outputs": [],
   "source": [
    "def explained_variances(param):\n",
    "    df29 = pd.DataFrame(columns=cols)\n",
    "    for frac in fracs:\n",
    "        scores29 = []\n",
    "        for col in cols:\n",
    "            if col in cols:\n",
    "                key = param + frac\n",
    "                if 'kNN' in col:\n",
    "                    key = key + '_knn'\n",
    "                    scores29.append(explained_variance_score(learn29[key]['TrueY'], learn29[key]['kNN']))\n",
    "                else:\n",
    "                    key = key + '_dtree'\n",
    "                    scores29.append(explained_variance_score(learn29[key]['TrueY'], learn29[key]['DTree']))\n",
    "            else:\n",
    "                if frac == mll_frac:\n",
    "                    scores29.append(explained_variance_score(mll29[llparam[param][0]], mll29[llparam[param][1]]))\n",
    "                else:\n",
    "                    scores29.append(np.nan)\n",
    "        df29.loc[frac] = scores29\n",
    "    print(llparam[param][0] + ', ExpVar, 29 nuclides: \\n')\n",
    "    return df29"
   ]
  },
  {
   "cell_type": "code",
   "execution_count": 16,
   "metadata": {},
   "outputs": [],
   "source": [
    "def mean_abs_error(param):\n",
    "    df29 = pd.DataFrame(columns=cols)\n",
    "    for frac in fracs:\n",
    "        scores29 = []\n",
    "        for col in cols:\n",
    "            if col in cols:\n",
    "                key = param + frac\n",
    "                if 'kNN' in col:\n",
    "                    key = key + '_knn'\n",
    "                    scores29.append(mean_absolute_error(learn29[key]['TrueY'], learn29[key]['kNN']))\n",
    "                else:\n",
    "                    key = key + '_dtree'\n",
    "                    scores29.append(mean_absolute_error(learn29[key]['TrueY'], learn29[key]['DTree']))\n",
    "            else:\n",
    "                if frac == mll_frac:\n",
    "                    scores29.append(mean_absolute_error(mll29[llparam[param][0]], mll29[llparam[param][1]]))\n",
    "                else:\n",
    "                    scores29.append(np.nan)\n",
    "        df29.loc[frac] = scores29\n",
    "    print(llparam[param][0] + ', MAE, 29 nuclides: \\n')\n",
    "    return df29"
   ]
  },
  {
   "cell_type": "code",
   "execution_count": 17,
   "metadata": {},
   "outputs": [
    {
     "name": "stdout",
     "output_type": "stream",
     "text": [
      "Enrichment, ExpVar, 29 nuclides: \n",
      "\n"
     ]
    },
    {
     "data": {
      "text/html": [
       "<div>\n",
       "<style scoped>\n",
       "    .dataframe tbody tr th:only-of-type {\n",
       "        vertical-align: middle;\n",
       "    }\n",
       "\n",
       "    .dataframe tbody tr th {\n",
       "        vertical-align: top;\n",
       "    }\n",
       "\n",
       "    .dataframe thead th {\n",
       "        text-align: right;\n",
       "    }\n",
       "</style>\n",
       "<table border=\"1\" class=\"dataframe\">\n",
       "  <thead>\n",
       "    <tr style=\"text-align: right;\">\n",
       "      <th></th>\n",
       "      <th>kNN</th>\n",
       "      <th>DTree</th>\n",
       "      <th>MaxLL</th>\n",
       "    </tr>\n",
       "  </thead>\n",
       "  <tbody>\n",
       "    <tr>\n",
       "      <th>0.1</th>\n",
       "      <td>-1.186659</td>\n",
       "      <td>0.655351</td>\n",
       "      <td>0.655351</td>\n",
       "    </tr>\n",
       "    <tr>\n",
       "      <th>0.3</th>\n",
       "      <td>-1.459952</td>\n",
       "      <td>0.709187</td>\n",
       "      <td>0.709187</td>\n",
       "    </tr>\n",
       "    <tr>\n",
       "      <th>1.0</th>\n",
       "      <td>-1.475372</td>\n",
       "      <td>0.721632</td>\n",
       "      <td>0.721632</td>\n",
       "    </tr>\n",
       "  </tbody>\n",
       "</table>\n",
       "</div>"
      ],
      "text/plain": [
       "          kNN     DTree     MaxLL\n",
       "0.1 -1.186659  0.655351  0.655351\n",
       "0.3 -1.459952  0.709187  0.709187\n",
       "1.0 -1.475372  0.721632  0.721632"
      ]
     },
     "execution_count": 17,
     "metadata": {},
     "output_type": "execute_result"
    }
   ],
   "source": [
    "enri29 = explained_variances('enri')\n",
    "enri29"
   ]
  },
  {
   "cell_type": "code",
   "execution_count": 18,
   "metadata": {
    "scrolled": true
   },
   "outputs": [
    {
     "name": "stdout",
     "output_type": "stream",
     "text": [
      "Enrichment, MAE, 29 nuclides: \n",
      "\n"
     ]
    },
    {
     "data": {
      "text/html": [
       "<div>\n",
       "<style scoped>\n",
       "    .dataframe tbody tr th:only-of-type {\n",
       "        vertical-align: middle;\n",
       "    }\n",
       "\n",
       "    .dataframe tbody tr th {\n",
       "        vertical-align: top;\n",
       "    }\n",
       "\n",
       "    .dataframe thead th {\n",
       "        text-align: right;\n",
       "    }\n",
       "</style>\n",
       "<table border=\"1\" class=\"dataframe\">\n",
       "  <thead>\n",
       "    <tr style=\"text-align: right;\">\n",
       "      <th></th>\n",
       "      <th>kNN</th>\n",
       "      <th>DTree</th>\n",
       "      <th>MaxLL</th>\n",
       "    </tr>\n",
       "  </thead>\n",
       "  <tbody>\n",
       "    <tr>\n",
       "      <th>0.1</th>\n",
       "      <td>1.678349</td>\n",
       "      <td>0.348291</td>\n",
       "      <td>0.348291</td>\n",
       "    </tr>\n",
       "    <tr>\n",
       "      <th>0.3</th>\n",
       "      <td>1.721205</td>\n",
       "      <td>0.330467</td>\n",
       "      <td>0.330467</td>\n",
       "    </tr>\n",
       "    <tr>\n",
       "      <th>1.0</th>\n",
       "      <td>1.735405</td>\n",
       "      <td>0.329612</td>\n",
       "      <td>0.329612</td>\n",
       "    </tr>\n",
       "  </tbody>\n",
       "</table>\n",
       "</div>"
      ],
      "text/plain": [
       "          kNN     DTree     MaxLL\n",
       "0.1  1.678349  0.348291  0.348291\n",
       "0.3  1.721205  0.330467  0.330467\n",
       "1.0  1.735405  0.329612  0.329612"
      ]
     },
     "execution_count": 18,
     "metadata": {},
     "output_type": "execute_result"
    }
   ],
   "source": [
    "enri29 = mean_abs_error('enri')\n",
    "enri29"
   ]
  },
  {
   "cell_type": "code",
   "execution_count": 19,
   "metadata": {},
   "outputs": [
    {
     "name": "stdout",
     "output_type": "stream",
     "text": [
      "Burnup, ExpVar, 29 nuclides: \n",
      "\n"
     ]
    },
    {
     "data": {
      "text/html": [
       "<div>\n",
       "<style scoped>\n",
       "    .dataframe tbody tr th:only-of-type {\n",
       "        vertical-align: middle;\n",
       "    }\n",
       "\n",
       "    .dataframe tbody tr th {\n",
       "        vertical-align: top;\n",
       "    }\n",
       "\n",
       "    .dataframe thead th {\n",
       "        text-align: right;\n",
       "    }\n",
       "</style>\n",
       "<table border=\"1\" class=\"dataframe\">\n",
       "  <thead>\n",
       "    <tr style=\"text-align: right;\">\n",
       "      <th></th>\n",
       "      <th>kNN</th>\n",
       "      <th>DTree</th>\n",
       "      <th>MaxLL</th>\n",
       "    </tr>\n",
       "  </thead>\n",
       "  <tbody>\n",
       "    <tr>\n",
       "      <th>0.1</th>\n",
       "      <td>-0.277694</td>\n",
       "      <td>0.195675</td>\n",
       "      <td>0.195675</td>\n",
       "    </tr>\n",
       "    <tr>\n",
       "      <th>0.3</th>\n",
       "      <td>0.034710</td>\n",
       "      <td>0.186354</td>\n",
       "      <td>0.186354</td>\n",
       "    </tr>\n",
       "    <tr>\n",
       "      <th>1.0</th>\n",
       "      <td>-0.035110</td>\n",
       "      <td>0.242814</td>\n",
       "      <td>0.242814</td>\n",
       "    </tr>\n",
       "  </tbody>\n",
       "</table>\n",
       "</div>"
      ],
      "text/plain": [
       "          kNN     DTree     MaxLL\n",
       "0.1 -0.277694  0.195675  0.195675\n",
       "0.3  0.034710  0.186354  0.186354\n",
       "1.0 -0.035110  0.242814  0.242814"
      ]
     },
     "execution_count": 19,
     "metadata": {},
     "output_type": "execute_result"
    }
   ],
   "source": [
    "burn29 = explained_variances('burn')\n",
    "burn29"
   ]
  },
  {
   "cell_type": "code",
   "execution_count": 20,
   "metadata": {},
   "outputs": [
    {
     "name": "stdout",
     "output_type": "stream",
     "text": [
      "Burnup, MAE, 29 nuclides: \n",
      "\n"
     ]
    },
    {
     "data": {
      "text/html": [
       "<div>\n",
       "<style scoped>\n",
       "    .dataframe tbody tr th:only-of-type {\n",
       "        vertical-align: middle;\n",
       "    }\n",
       "\n",
       "    .dataframe tbody tr th {\n",
       "        vertical-align: top;\n",
       "    }\n",
       "\n",
       "    .dataframe thead th {\n",
       "        text-align: right;\n",
       "    }\n",
       "</style>\n",
       "<table border=\"1\" class=\"dataframe\">\n",
       "  <thead>\n",
       "    <tr style=\"text-align: right;\">\n",
       "      <th></th>\n",
       "      <th>kNN</th>\n",
       "      <th>DTree</th>\n",
       "      <th>MaxLL</th>\n",
       "    </tr>\n",
       "  </thead>\n",
       "  <tbody>\n",
       "    <tr>\n",
       "      <th>0.1</th>\n",
       "      <td>15152.352107</td>\n",
       "      <td>14211.989630</td>\n",
       "      <td>14211.989630</td>\n",
       "    </tr>\n",
       "    <tr>\n",
       "      <th>0.3</th>\n",
       "      <td>14076.621187</td>\n",
       "      <td>14283.393749</td>\n",
       "      <td>14283.393749</td>\n",
       "    </tr>\n",
       "    <tr>\n",
       "      <th>1.0</th>\n",
       "      <td>14259.941405</td>\n",
       "      <td>14027.794601</td>\n",
       "      <td>14027.794601</td>\n",
       "    </tr>\n",
       "  </tbody>\n",
       "</table>\n",
       "</div>"
      ],
      "text/plain": [
       "              kNN         DTree         MaxLL\n",
       "0.1  15152.352107  14211.989630  14211.989630\n",
       "0.3  14076.621187  14283.393749  14283.393749\n",
       "1.0  14259.941405  14027.794601  14027.794601"
      ]
     },
     "execution_count": 20,
     "metadata": {},
     "output_type": "execute_result"
    }
   ],
   "source": [
    "burn29 = mean_abs_error('burn')\n",
    "burn29"
   ]
  },
  {
   "cell_type": "code",
   "execution_count": null,
   "metadata": {},
   "outputs": [],
   "source": []
  }
 ],
 "metadata": {
  "kernelspec": {
   "display_name": "Python 3",
   "language": "python",
   "name": "python3"
  },
  "language_info": {
   "codemirror_mode": {
    "name": "ipython",
    "version": 3
   },
   "file_extension": ".py",
   "mimetype": "text/x-python",
   "name": "python",
   "nbconvert_exporter": "python",
   "pygments_lexer": "ipython3",
   "version": "3.6.9"
  }
 },
 "nbformat": 4,
 "nbformat_minor": 4
}
