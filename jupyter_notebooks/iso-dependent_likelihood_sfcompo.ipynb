{
 "cells": [
  {
   "cell_type": "code",
   "execution_count": 2,
   "metadata": {},
   "outputs": [],
   "source": [
    "import numpy as np\n",
    "import pandas as pd\n",
    "import matplotlib.pyplot as plt\n",
    "import scipy.stats as stats\n",
    "%matplotlib inline"
   ]
  },
  {
   "cell_type": "markdown",
   "metadata": {},
   "source": [
    "# Functions"
   ]
  },
  {
   "cell_type": "code",
   "execution_count": 3,
   "metadata": {},
   "outputs": [],
   "source": [
    "def ll_list_calc(row, test_sample, unc):\n",
    "    y_sim = row[test_sample>0].values.tolist()\n",
    "    std = row.multiply(unc)[test_sample>0].values.tolist()\n",
    "    y_mes = test_sample[test_sample>0].values.tolist()\n",
    "    ll_list = stats.norm.logpdf(y_sim, loc=y_mes, scale=std)\n",
    "    return ll_list"
   ]
  },
  {
   "cell_type": "code",
   "execution_count": 4,
   "metadata": {},
   "outputs": [],
   "source": [
    "def ratios(XY, ratio_list, labels):\n",
    "    XY_ratios = XY.loc[:, labels].copy()\n",
    "    for ratio in ratio_list:\n",
    "        nucs = ratio.split('/')\n",
    "        XY_ratios[ratio] = XY[nucs[0]] / XY[nucs[1]]\n",
    "    XY_ratios.replace([np.inf, -np.inf], 0, inplace=True)\n",
    "    XY_ratios.fillna(0, inplace = True)\n",
    "    # reorganize columns\n",
    "    cols = ratio_list + labels\n",
    "    return XY_ratios"
   ]
  },
  {
   "cell_type": "code",
   "execution_count": 5,
   "metadata": {},
   "outputs": [],
   "source": [
    "def format_XY(db_path):\n",
    "    XY = pd.read_pickle(db_path)\n",
    "    if 'total' in XY.columns:\n",
    "        XY.drop('total', axis=1, inplace=True)\n",
    "    XY = XY.loc[XY['Burnup'] > 0]\n",
    "    XY.reset_index(inplace=True, drop=True)\n",
    "    return XY"
   ]
  },
  {
   "cell_type": "code",
   "execution_count": 6,
   "metadata": {},
   "outputs": [],
   "source": [
    "unc = 0.05\n",
    "lbls = ['ReactorType', 'CoolingTime', 'Enrichment', 'Burnup', 'OrigenReactor']\n",
    "tamu_list = ['cs137/cs133', 'cs134/cs137', 'cs135/cs137', 'ba136/ba138',\n",
    "             'sm150/sm149', 'sm152/sm149', 'eu154/eu153', 'pu240/pu239',\n",
    "             'pu241/pu239', 'pu242/pu239']"
   ]
  },
  {
   "cell_type": "markdown",
   "metadata": {},
   "source": [
    "# Data formatting & Calculations"
   ]
  },
  {
   "cell_type": "code",
   "execution_count": 7,
   "metadata": {},
   "outputs": [],
   "source": [
    "pklfile = '../../sims_n_results/nucmoles_opusupdate_aug2019/not-scaled_15nuc.pkl'\n",
    "XY = format_XY(pklfile)\n",
    "XY = ratios(XY, tamu_list, lbls)\n",
    "\n",
    "sfco_pkl = '~/sfcompo/format_clean/sfcompo_formatted.pkl'\n",
    "sfco = pd.read_pickle(sfco_pkl)\n",
    "sfco = ratios(sfco, tamu_list, lbls)\n",
    "\n",
    "# for preds\n",
    "sfco_path = '~/sims_n_results/nucmoles_opusupdate_aug2019/sfco/'\n",
    "unc_job = 'Job0_unc0.05'\n",
    "sfcoLL = pd.read_csv(sfco_path + unc_job + '/' + unc_job + '.csv')"
   ]
  },
  {
   "cell_type": "markdown",
   "metadata": {},
   "source": [
    "## (a) Get test samples for iso-dependent LL calcs"
   ]
  },
  {
   "cell_type": "markdown",
   "metadata": {},
   "source": [
    "manually found predictions with low and high errors, respectively"
   ]
  },
  {
   "cell_type": "code",
   "execution_count": 8,
   "metadata": {},
   "outputs": [],
   "source": [
    "# ~6% burnup and enrichment errors + correct reactor pred\n",
    "good_id = 'OHI-2|17G|C5|89G03' \n",
    "good_idx = 331\n",
    "# > 200% burnup and enrichment error + wrong reactor pred\n",
    "bad_id = 'NPD-1|1022|B|1' \n",
    "bad_idx = 268"
   ]
  },
  {
   "cell_type": "code",
   "execution_count": 9,
   "metadata": {},
   "outputs": [],
   "source": [
    "grow = sfco.loc[sfco.index == good_id].squeeze()\n",
    "grow_pred = sfcoLL.loc[sfcoLL.index == good_idx]\n",
    "grow_train_idx = grow_pred['pred_idx']"
   ]
  },
  {
   "cell_type": "code",
   "execution_count": 10,
   "metadata": {},
   "outputs": [],
   "source": [
    "brow = sfco.loc[sfco.index == bad_id].squeeze()\n",
    "brow_pred = sfcoLL.loc[sfcoLL.index == bad_idx]\n",
    "brow_train_idx = brow_pred['pred_idx']"
   ]
  },
  {
   "cell_type": "code",
   "execution_count": 11,
   "metadata": {},
   "outputs": [
    {
     "name": "stdout",
     "output_type": "stream",
     "text": [
      "331    8925\n",
      "Name: pred_idx, dtype: int64\n",
      "268    14605\n",
      "Name: pred_idx, dtype: int64\n"
     ]
    }
   ],
   "source": [
    "print(grow_train_idx)\n",
    "print(brow_train_idx)"
   ]
  },
  {
   "cell_type": "markdown",
   "metadata": {},
   "source": [
    "## (b) LL calcs for \"good\" pred"
   ]
  },
  {
   "cell_type": "code",
   "execution_count": 12,
   "metadata": {},
   "outputs": [],
   "source": [
    "test_sample = grow.drop(lbls)\n",
    "test_answer = grow[lbls]\n",
    "row = XY.loc[8925].drop(lbls)\n",
    "logpdf = ll_list_calc(row, test_sample, unc)"
   ]
  },
  {
   "cell_type": "code",
   "execution_count": 13,
   "metadata": {},
   "outputs": [
    {
     "data": {
      "text/plain": [
       "array([-19.14817197, -13.31293433,  -0.2413733 ,  -2.23560324])"
      ]
     },
     "execution_count": 13,
     "metadata": {},
     "output_type": "execute_result"
    }
   ],
   "source": [
    "logpdf"
   ]
  },
  {
   "cell_type": "code",
   "execution_count": 14,
   "metadata": {},
   "outputs": [
    {
     "data": {
      "text/plain": [
       "-34.93808284176995"
      ]
     },
     "execution_count": 14,
     "metadata": {},
     "output_type": "execute_result"
    }
   ],
   "source": [
    "np.sum(logpdf)"
   ]
  },
  {
   "cell_type": "code",
   "execution_count": 15,
   "metadata": {},
   "outputs": [
    {
     "data": {
      "text/plain": [
       "331   -34.938083\n",
       "Name: MaxLogLL, dtype: float64"
      ]
     },
     "execution_count": 15,
     "metadata": {},
     "output_type": "execute_result"
    }
   ],
   "source": [
    "sfcoLL['MaxLogLL'].loc[sfcoLL['sim_idx']==good_id]"
   ]
  },
  {
   "cell_type": "code",
   "execution_count": 16,
   "metadata": {},
   "outputs": [
    {
     "data": {
      "text/plain": [
       "cs134/cs137    0.0163462\n",
       "pu240/pu239     0.368265\n",
       "pu241/pu239     0.247569\n",
       "pu242/pu239     0.166689\n",
       "Name: 8925, dtype: object"
      ]
     },
     "execution_count": 16,
     "metadata": {},
     "output_type": "execute_result"
    }
   ],
   "source": [
    "row[test_sample>0]"
   ]
  },
  {
   "cell_type": "code",
   "execution_count": 17,
   "metadata": {},
   "outputs": [
    {
     "data": {
      "text/plain": [
       "cs134/cs137   -19.148172\n",
       "pu240/pu239   -13.312934\n",
       "pu241/pu239    -0.241373\n",
       "pu242/pu239    -2.235603\n",
       "Name: LogPDF, dtype: float64"
      ]
     },
     "execution_count": 17,
     "metadata": {},
     "output_type": "execute_result"
    }
   ],
   "source": [
    "logpdf = pd.Series(logpdf, index=row[test_sample>0].index, name='LogPDF')\n",
    "logpdf"
   ]
  },
  {
   "cell_type": "code",
   "execution_count": 18,
   "metadata": {},
   "outputs": [
    {
     "data": {
      "text/html": [
       "<div>\n",
       "<style scoped>\n",
       "    .dataframe tbody tr th:only-of-type {\n",
       "        vertical-align: middle;\n",
       "    }\n",
       "\n",
       "    .dataframe tbody tr th {\n",
       "        vertical-align: top;\n",
       "    }\n",
       "\n",
       "    .dataframe thead th {\n",
       "        text-align: right;\n",
       "    }\n",
       "</style>\n",
       "<table border=\"1\" class=\"dataframe\">\n",
       "  <thead>\n",
       "    <tr style=\"text-align: right;\">\n",
       "      <th></th>\n",
       "      <th>cs137/cs133</th>\n",
       "      <th>cs134/cs137</th>\n",
       "      <th>cs135/cs137</th>\n",
       "      <th>ba136/ba138</th>\n",
       "      <th>sm150/sm149</th>\n",
       "      <th>sm152/sm149</th>\n",
       "      <th>eu154/eu153</th>\n",
       "      <th>pu240/pu239</th>\n",
       "      <th>pu241/pu239</th>\n",
       "      <th>pu242/pu239</th>\n",
       "    </tr>\n",
       "  </thead>\n",
       "  <tbody>\n",
       "    <tr>\n",
       "      <th>8925</th>\n",
       "      <td>0.897989</td>\n",
       "      <td>0.016346</td>\n",
       "      <td>0.248352</td>\n",
       "      <td>0.010341</td>\n",
       "      <td>100.111607</td>\n",
       "      <td>41.344866</td>\n",
       "      <td>0.106392</td>\n",
       "      <td>0.368265</td>\n",
       "      <td>0.247569</td>\n",
       "      <td>0.166689</td>\n",
       "    </tr>\n",
       "    <tr>\n",
       "      <th>LogPDF</th>\n",
       "      <td>NaN</td>\n",
       "      <td>-19.148172</td>\n",
       "      <td>NaN</td>\n",
       "      <td>NaN</td>\n",
       "      <td>NaN</td>\n",
       "      <td>NaN</td>\n",
       "      <td>NaN</td>\n",
       "      <td>-13.312934</td>\n",
       "      <td>-0.241373</td>\n",
       "      <td>-2.235603</td>\n",
       "    </tr>\n",
       "  </tbody>\n",
       "</table>\n",
       "</div>"
      ],
      "text/plain": [
       "        cs137/cs133  cs134/cs137  cs135/cs137  ba136/ba138  sm150/sm149  \\\n",
       "8925       0.897989     0.016346     0.248352     0.010341   100.111607   \n",
       "LogPDF          NaN   -19.148172          NaN          NaN          NaN   \n",
       "\n",
       "        sm152/sm149  eu154/eu153  pu240/pu239  pu241/pu239  pu242/pu239  \n",
       "8925      41.344866     0.106392     0.368265     0.247569     0.166689  \n",
       "LogPDF          NaN          NaN   -13.312934    -0.241373    -2.235603  "
      ]
     },
     "execution_count": 18,
     "metadata": {},
     "output_type": "execute_result"
    }
   ],
   "source": [
    "pd.DataFrame([row, logpdf])"
   ]
  },
  {
   "cell_type": "markdown",
   "metadata": {},
   "source": [
    "## (c) LL calcs for \"bad\" pred"
   ]
  },
  {
   "cell_type": "code",
   "execution_count": 19,
   "metadata": {},
   "outputs": [],
   "source": [
    "test_sample = brow.drop(lbls)\n",
    "test_answer = brow[lbls]\n",
    "row = XY.loc[14605].drop(lbls)\n",
    "logpdf = ll_list_calc(row, test_sample, unc)\n",
    "logpdf = pd.Series(logpdf, index=row[test_sample>0].index, name='LogPDF')"
   ]
  },
  {
   "cell_type": "code",
   "execution_count": 20,
   "metadata": {},
   "outputs": [
    {
     "data": {
      "text/plain": [
       "7.57858452439314"
      ]
     },
     "execution_count": 20,
     "metadata": {},
     "output_type": "execute_result"
    }
   ],
   "source": [
    "np.sum(logpdf)"
   ]
  },
  {
   "cell_type": "code",
   "execution_count": 22,
   "metadata": {},
   "outputs": [
    {
     "data": {
      "text/plain": [
       "268    7.578585\n",
       "Name: MaxLogLL, dtype: float64"
      ]
     },
     "execution_count": 22,
     "metadata": {},
     "output_type": "execute_result"
    }
   ],
   "source": [
    "sfcoLL['MaxLogLL'].loc[sfcoLL['sim_idx']==bad_id]"
   ]
  },
  {
   "cell_type": "code",
   "execution_count": 23,
   "metadata": {},
   "outputs": [
    {
     "data": {
      "text/html": [
       "<div>\n",
       "<style scoped>\n",
       "    .dataframe tbody tr th:only-of-type {\n",
       "        vertical-align: middle;\n",
       "    }\n",
       "\n",
       "    .dataframe tbody tr th {\n",
       "        vertical-align: top;\n",
       "    }\n",
       "\n",
       "    .dataframe thead th {\n",
       "        text-align: right;\n",
       "    }\n",
       "</style>\n",
       "<table border=\"1\" class=\"dataframe\">\n",
       "  <thead>\n",
       "    <tr style=\"text-align: right;\">\n",
       "      <th></th>\n",
       "      <th>cs137/cs133</th>\n",
       "      <th>cs134/cs137</th>\n",
       "      <th>cs135/cs137</th>\n",
       "      <th>ba136/ba138</th>\n",
       "      <th>sm150/sm149</th>\n",
       "      <th>sm152/sm149</th>\n",
       "      <th>eu154/eu153</th>\n",
       "      <th>pu240/pu239</th>\n",
       "      <th>pu241/pu239</th>\n",
       "      <th>pu242/pu239</th>\n",
       "    </tr>\n",
       "  </thead>\n",
       "  <tbody>\n",
       "    <tr>\n",
       "      <th>14605</th>\n",
       "      <td>0.67858</td>\n",
       "      <td>0.000137</td>\n",
       "      <td>0.4421</td>\n",
       "      <td>0.002254</td>\n",
       "      <td>9.63477</td>\n",
       "      <td>4.754565</td>\n",
       "      <td>0.015806</td>\n",
       "      <td>0.065473</td>\n",
       "      <td>0.005232</td>\n",
       "      <td>0.000288</td>\n",
       "    </tr>\n",
       "    <tr>\n",
       "      <th>LogPDF</th>\n",
       "      <td>NaN</td>\n",
       "      <td>NaN</td>\n",
       "      <td>NaN</td>\n",
       "      <td>NaN</td>\n",
       "      <td>NaN</td>\n",
       "      <td>NaN</td>\n",
       "      <td>NaN</td>\n",
       "      <td>0.594151</td>\n",
       "      <td>-1.555835</td>\n",
       "      <td>8.540268</td>\n",
       "    </tr>\n",
       "  </tbody>\n",
       "</table>\n",
       "</div>"
      ],
      "text/plain": [
       "        cs137/cs133  cs134/cs137  cs135/cs137  ba136/ba138  sm150/sm149  \\\n",
       "14605       0.67858     0.000137       0.4421     0.002254      9.63477   \n",
       "LogPDF          NaN          NaN          NaN          NaN          NaN   \n",
       "\n",
       "        sm152/sm149  eu154/eu153  pu240/pu239  pu241/pu239  pu242/pu239  \n",
       "14605      4.754565     0.015806     0.065473     0.005232     0.000288  \n",
       "LogPDF          NaN          NaN     0.594151    -1.555835     8.540268  "
      ]
     },
     "execution_count": 23,
     "metadata": {},
     "output_type": "execute_result"
    }
   ],
   "source": [
    "pd.DataFrame([row, logpdf])"
   ]
  },
  {
   "cell_type": "code",
   "execution_count": null,
   "metadata": {},
   "outputs": [],
   "source": []
  }
 ],
 "metadata": {
  "kernelspec": {
   "display_name": "Python 3",
   "language": "python",
   "name": "python3"
  },
  "language_info": {
   "codemirror_mode": {
    "name": "ipython",
    "version": 3
   },
   "file_extension": ".py",
   "mimetype": "text/x-python",
   "name": "python",
   "nbconvert_exporter": "python",
   "pygments_lexer": "ipython3",
   "version": "3.6.9"
  }
 },
 "nbformat": 4,
 "nbformat_minor": 2
}
