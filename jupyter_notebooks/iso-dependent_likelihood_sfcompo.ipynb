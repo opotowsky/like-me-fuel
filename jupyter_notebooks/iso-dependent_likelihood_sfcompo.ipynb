{
 "cells": [
  {
   "cell_type": "code",
   "execution_count": 2,
   "metadata": {},
   "outputs": [],
   "source": [
    "import numpy as np\n",
    "import pandas as pd\n",
    "import matplotlib.pyplot as plt\n",
    "import scipy.stats as stats\n",
    "%matplotlib inline"
   ]
  },
  {
   "cell_type": "markdown",
   "metadata": {},
   "source": [
    "# Functions"
   ]
  },
  {
   "cell_type": "code",
   "execution_count": 3,
   "metadata": {},
   "outputs": [],
   "source": [
    "from mll_calc.mll_pred import ratios, format_XY"
   ]
  },
  {
   "cell_type": "code",
   "execution_count": 4,
   "metadata": {},
   "outputs": [],
   "source": [
    "def logpdf_calc(row, test_sample, unc):\n",
    "    y_sim = row[test_sample>0].values.tolist()\n",
    "    std = row.multiply(unc)[test_sample>0].values.tolist()\n",
    "    y_mes = test_sample[test_sample>0].values.tolist()\n",
    "    logpdf_list = stats.norm.logpdf(y_sim, loc=y_mes, scale=std)\n",
    "    return logpdf_list"
   ]
  },
  {
   "cell_type": "code",
   "execution_count": 5,
   "metadata": {},
   "outputs": [],
   "source": [
    "def loop_sfco(XY, test, pred, unc, lbls):\n",
    "    logpdf_df = pd.DataFrame()\n",
    "    for test_idx, row in test.iterrows():\n",
    "        test_sample = row.drop(lbls)\n",
    "        test_answer = row[lbls]\n",
    "        \n",
    "        pred_idx = pred['pred_idx'].loc[pred['sim_idx'] == test_idx]\n",
    "        train_row = XY.loc[pred_idx.values[0]].drop(lbls)\n",
    "        \n",
    "        logpdf = logpdf_calc(train_row, test_sample, unc)\n",
    "        logpdf = pd.Series(logpdf, index=train_row[test_sample>0].index, name=test_idx)\n",
    "        \n",
    "        if logpdf_df.empty:\n",
    "            logpdf_df = pd.DataFrame(columns = test_sample.index.to_list())\n",
    "        logpdf_df = logpdf_df.append(logpdf)\n",
    "    return logpdf_df"
   ]
  },
  {
   "cell_type": "code",
   "execution_count": 6,
   "metadata": {},
   "outputs": [],
   "source": [
    "unc = 0.05\n",
    "lbls = ['ReactorType', 'CoolingTime', 'Enrichment', 'Burnup', 'OrigenReactor']\n",
    "tamu_list = ['cs137/cs133', 'cs134/cs137', 'cs135/cs137', 'ba136/ba138',\n",
    "             'sm150/sm149', 'sm152/sm149', 'eu154/eu153', 'pu240/pu239',\n",
    "             'pu241/pu239', 'pu242/pu239']"
   ]
  },
  {
   "cell_type": "markdown",
   "metadata": {},
   "source": [
    "# Data formatting & Calculations"
   ]
  },
  {
   "cell_type": "code",
   "execution_count": 7,
   "metadata": {},
   "outputs": [],
   "source": [
    "pklfile = '../../sims_n_results/nucmoles_opusupdate_aug2019/not-scaled_15nuc.pkl'\n",
    "XY = format_XY(pklfile)\n",
    "XY = ratios(XY, tamu_list, lbls)\n",
    "\n",
    "sfco_pkl = '~/sfcompo/format_clean/sfcompo_formatted.pkl'\n",
    "sfco = pd.read_pickle(sfco_pkl)\n",
    "sfco = ratios(sfco, tamu_list, lbls)\n",
    "\n",
    "# for preds\n",
    "sfco_path = '~/sims_n_results/nucmoles_opusupdate_aug2019/sfco/'\n",
    "unc_job = 'Job0_unc0.05'\n",
    "sfcoLL = pd.read_csv(sfco_path + unc_job + '/' + unc_job + '.csv')"
   ]
  },
  {
   "cell_type": "markdown",
   "metadata": {},
   "source": [
    "## (a) Get test samples for iso-dependent logpdf calcs"
   ]
  },
  {
   "cell_type": "markdown",
   "metadata": {},
   "source": [
    "manually found predictions with low and high errors, respectively"
   ]
  },
  {
   "cell_type": "code",
   "execution_count": 8,
   "metadata": {},
   "outputs": [],
   "source": [
    "# ~6% burnup and enrichment errors + correct reactor pred\n",
    "good_id = 'OHI-2|17G|C5|89G03' \n",
    "good_idx = 331\n",
    "# > 200% burnup and enrichment error + wrong reactor pred\n",
    "bad_id = 'NPD-1|1022|B|1' \n",
    "bad_idx = 268"
   ]
  },
  {
   "cell_type": "code",
   "execution_count": 10,
   "metadata": {},
   "outputs": [],
   "source": [
    "grow = sfco.loc[sfco.index == good_id].squeeze()\n",
    "grow_pred = sfcoLL.loc[sfcoLL.index == good_idx]\n",
    "grow_train_idx = grow_pred['pred_idx']"
   ]
  },
  {
   "cell_type": "code",
   "execution_count": 11,
   "metadata": {},
   "outputs": [],
   "source": [
    "brow = sfco.loc[sfco.index == bad_id].squeeze()\n",
    "brow_pred = sfcoLL.loc[sfcoLL.index == bad_idx]\n",
    "brow_train_idx = brow_pred['pred_idx']"
   ]
  },
  {
   "cell_type": "code",
   "execution_count": 12,
   "metadata": {},
   "outputs": [
    {
     "name": "stdout",
     "output_type": "stream",
     "text": [
      "331    8925\n",
      "Name: pred_idx, dtype: int64\n",
      "268    14605\n",
      "Name: pred_idx, dtype: int64\n"
     ]
    }
   ],
   "source": [
    "print(grow_train_idx)\n",
    "print(brow_train_idx)"
   ]
  },
  {
   "cell_type": "markdown",
   "metadata": {},
   "source": [
    "## (b) logpdf calcs for \"good\" pred"
   ]
  },
  {
   "cell_type": "code",
   "execution_count": 13,
   "metadata": {},
   "outputs": [],
   "source": [
    "test_sample = grow.drop(lbls)\n",
    "test_answer = grow[lbls]\n",
    "row = XY.loc[8925].drop(lbls)\n",
    "logpdf = logpdf_calc(row, test_sample, unc)"
   ]
  },
  {
   "cell_type": "code",
   "execution_count": 14,
   "metadata": {},
   "outputs": [
    {
     "data": {
      "text/plain": [
       "array([-19.14817197, -13.31293433,  -0.2413733 ,  -2.23560324])"
      ]
     },
     "execution_count": 14,
     "metadata": {},
     "output_type": "execute_result"
    }
   ],
   "source": [
    "logpdf"
   ]
  },
  {
   "cell_type": "code",
   "execution_count": 15,
   "metadata": {},
   "outputs": [
    {
     "data": {
      "text/plain": [
       "-34.93808284176995"
      ]
     },
     "execution_count": 15,
     "metadata": {},
     "output_type": "execute_result"
    }
   ],
   "source": [
    "np.sum(logpdf)"
   ]
  },
  {
   "cell_type": "code",
   "execution_count": 16,
   "metadata": {},
   "outputs": [
    {
     "data": {
      "text/plain": [
       "331   -34.938083\n",
       "Name: MaxLogLL, dtype: float64"
      ]
     },
     "execution_count": 16,
     "metadata": {},
     "output_type": "execute_result"
    }
   ],
   "source": [
    "#check match\n",
    "sfcoLL['MaxLogLL'].loc[sfcoLL['sim_idx']==good_id]"
   ]
  },
  {
   "cell_type": "code",
   "execution_count": 17,
   "metadata": {},
   "outputs": [
    {
     "data": {
      "text/plain": [
       "cs134/cs137    0.0163462\n",
       "pu240/pu239     0.368265\n",
       "pu241/pu239     0.247569\n",
       "pu242/pu239     0.166689\n",
       "Name: 8925, dtype: object"
      ]
     },
     "execution_count": 17,
     "metadata": {},
     "output_type": "execute_result"
    }
   ],
   "source": [
    "row[test_sample>0]"
   ]
  },
  {
   "cell_type": "code",
   "execution_count": 18,
   "metadata": {},
   "outputs": [
    {
     "data": {
      "text/plain": [
       "cs134/cs137   -19.148172\n",
       "pu240/pu239   -13.312934\n",
       "pu241/pu239    -0.241373\n",
       "pu242/pu239    -2.235603\n",
       "Name: LogPDF, dtype: float64"
      ]
     },
     "execution_count": 18,
     "metadata": {},
     "output_type": "execute_result"
    }
   ],
   "source": [
    "logpdf = pd.Series(logpdf, index=row[test_sample>0].index, name='LogPDF')\n",
    "logpdf"
   ]
  },
  {
   "cell_type": "code",
   "execution_count": 19,
   "metadata": {},
   "outputs": [
    {
     "data": {
      "text/html": [
       "<div>\n",
       "<style scoped>\n",
       "    .dataframe tbody tr th:only-of-type {\n",
       "        vertical-align: middle;\n",
       "    }\n",
       "\n",
       "    .dataframe tbody tr th {\n",
       "        vertical-align: top;\n",
       "    }\n",
       "\n",
       "    .dataframe thead th {\n",
       "        text-align: right;\n",
       "    }\n",
       "</style>\n",
       "<table border=\"1\" class=\"dataframe\">\n",
       "  <thead>\n",
       "    <tr style=\"text-align: right;\">\n",
       "      <th></th>\n",
       "      <th>cs137/cs133</th>\n",
       "      <th>cs134/cs137</th>\n",
       "      <th>cs135/cs137</th>\n",
       "      <th>ba136/ba138</th>\n",
       "      <th>sm150/sm149</th>\n",
       "      <th>sm152/sm149</th>\n",
       "      <th>eu154/eu153</th>\n",
       "      <th>pu240/pu239</th>\n",
       "      <th>pu241/pu239</th>\n",
       "      <th>pu242/pu239</th>\n",
       "    </tr>\n",
       "  </thead>\n",
       "  <tbody>\n",
       "    <tr>\n",
       "      <th>8925</th>\n",
       "      <td>0.897989</td>\n",
       "      <td>0.016346</td>\n",
       "      <td>0.248352</td>\n",
       "      <td>0.010341</td>\n",
       "      <td>100.111607</td>\n",
       "      <td>41.344866</td>\n",
       "      <td>0.106392</td>\n",
       "      <td>0.368265</td>\n",
       "      <td>0.247569</td>\n",
       "      <td>0.166689</td>\n",
       "    </tr>\n",
       "    <tr>\n",
       "      <th>OHI-2|17G|C5|89G03</th>\n",
       "      <td>0.000000</td>\n",
       "      <td>0.022164</td>\n",
       "      <td>0.000000</td>\n",
       "      <td>0.000000</td>\n",
       "      <td>0.000000</td>\n",
       "      <td>0.000000</td>\n",
       "      <td>0.000000</td>\n",
       "      <td>0.473684</td>\n",
       "      <td>0.281307</td>\n",
       "      <td>0.137568</td>\n",
       "    </tr>\n",
       "    <tr>\n",
       "      <th>LogPDF</th>\n",
       "      <td>NaN</td>\n",
       "      <td>-19.148172</td>\n",
       "      <td>NaN</td>\n",
       "      <td>NaN</td>\n",
       "      <td>NaN</td>\n",
       "      <td>NaN</td>\n",
       "      <td>NaN</td>\n",
       "      <td>-13.312934</td>\n",
       "      <td>-0.241373</td>\n",
       "      <td>-2.235603</td>\n",
       "    </tr>\n",
       "  </tbody>\n",
       "</table>\n",
       "</div>"
      ],
      "text/plain": [
       "                    cs137/cs133  cs134/cs137  cs135/cs137  ba136/ba138  \\\n",
       "8925                   0.897989     0.016346     0.248352     0.010341   \n",
       "OHI-2|17G|C5|89G03     0.000000     0.022164     0.000000     0.000000   \n",
       "LogPDF                      NaN   -19.148172          NaN          NaN   \n",
       "\n",
       "                    sm150/sm149  sm152/sm149  eu154/eu153  pu240/pu239  \\\n",
       "8925                 100.111607    41.344866     0.106392     0.368265   \n",
       "OHI-2|17G|C5|89G03     0.000000     0.000000     0.000000     0.473684   \n",
       "LogPDF                      NaN          NaN          NaN   -13.312934   \n",
       "\n",
       "                    pu241/pu239  pu242/pu239  \n",
       "8925                   0.247569     0.166689  \n",
       "OHI-2|17G|C5|89G03     0.281307     0.137568  \n",
       "LogPDF                -0.241373    -2.235603  "
      ]
     },
     "execution_count": 19,
     "metadata": {},
     "output_type": "execute_result"
    }
   ],
   "source": [
    "pd.DataFrame([row, test_sample, logpdf])"
   ]
  },
  {
   "cell_type": "markdown",
   "metadata": {},
   "source": [
    "### Sidebar: Finding some samples to simulate"
   ]
  },
  {
   "cell_type": "code",
   "execution_count": 10,
   "metadata": {},
   "outputs": [
    {
     "data": {
      "text/html": [
       "<div>\n",
       "<style scoped>\n",
       "    .dataframe tbody tr th:only-of-type {\n",
       "        vertical-align: middle;\n",
       "    }\n",
       "\n",
       "    .dataframe tbody tr th {\n",
       "        vertical-align: top;\n",
       "    }\n",
       "\n",
       "    .dataframe thead th {\n",
       "        text-align: right;\n",
       "    }\n",
       "</style>\n",
       "<table border=\"1\" class=\"dataframe\">\n",
       "  <thead>\n",
       "    <tr style=\"text-align: right;\">\n",
       "      <th></th>\n",
       "      <th>ReactorType</th>\n",
       "      <th>CoolingTime</th>\n",
       "      <th>Enrichment</th>\n",
       "      <th>Burnup</th>\n",
       "      <th>OrigenReactor</th>\n",
       "    </tr>\n",
       "  </thead>\n",
       "  <tbody>\n",
       "    <tr>\n",
       "      <th>OHI-2|17G|C5|89G03</th>\n",
       "      <td>pwr</td>\n",
       "      <td>0.0</td>\n",
       "      <td>1.6874</td>\n",
       "      <td>28717.0</td>\n",
       "      <td>Ohi-2_PWR</td>\n",
       "    </tr>\n",
       "  </tbody>\n",
       "</table>\n",
       "</div>"
      ],
      "text/plain": [
       "                   ReactorType  CoolingTime  Enrichment   Burnup OrigenReactor\n",
       "OHI-2|17G|C5|89G03         pwr          0.0      1.6874  28717.0     Ohi-2_PWR"
      ]
     },
     "execution_count": 10,
     "metadata": {},
     "output_type": "execute_result"
    }
   ],
   "source": [
    "# print \"good\" pred labels\n",
    "sfco.loc[sfco.index == good_id, lbls]"
   ]
  },
  {
   "cell_type": "code",
   "execution_count": 11,
   "metadata": {},
   "outputs": [
    {
     "data": {
      "text/html": [
       "<div>\n",
       "<style scoped>\n",
       "    .dataframe tbody tr th:only-of-type {\n",
       "        vertical-align: middle;\n",
       "    }\n",
       "\n",
       "    .dataframe tbody tr th {\n",
       "        vertical-align: top;\n",
       "    }\n",
       "\n",
       "    .dataframe thead th {\n",
       "        text-align: right;\n",
       "    }\n",
       "</style>\n",
       "<table border=\"1\" class=\"dataframe\">\n",
       "  <thead>\n",
       "    <tr style=\"text-align: right;\">\n",
       "      <th></th>\n",
       "      <th>ReactorType</th>\n",
       "      <th>CoolingTime</th>\n",
       "      <th>Enrichment</th>\n",
       "      <th>Burnup</th>\n",
       "      <th>OrigenReactor</th>\n",
       "    </tr>\n",
       "  </thead>\n",
       "  <tbody>\n",
       "    <tr>\n",
       "      <th>NPD-1|1022|B|1</th>\n",
       "      <td>phwr</td>\n",
       "      <td>0.0</td>\n",
       "      <td>0.711</td>\n",
       "      <td>854.0</td>\n",
       "      <td>Nuclear Power Demonstration Reactor-1_CANDU</td>\n",
       "    </tr>\n",
       "  </tbody>\n",
       "</table>\n",
       "</div>"
      ],
      "text/plain": [
       "               ReactorType  CoolingTime  Enrichment  Burnup  \\\n",
       "NPD-1|1022|B|1        phwr          0.0       0.711   854.0   \n",
       "\n",
       "                                              OrigenReactor  \n",
       "NPD-1|1022|B|1  Nuclear Power Demonstration Reactor-1_CANDU  "
      ]
     },
     "execution_count": 11,
     "metadata": {},
     "output_type": "execute_result"
    }
   ],
   "source": [
    "# print \"bad\" pred labels\n",
    "sfco.loc[sfco.index == bad_id, lbls]"
   ]
  },
  {
   "cell_type": "code",
   "execution_count": 13,
   "metadata": {},
   "outputs": [
    {
     "data": {
      "text/html": [
       "<div>\n",
       "<style scoped>\n",
       "    .dataframe tbody tr th:only-of-type {\n",
       "        vertical-align: middle;\n",
       "    }\n",
       "\n",
       "    .dataframe tbody tr th {\n",
       "        vertical-align: top;\n",
       "    }\n",
       "\n",
       "    .dataframe thead th {\n",
       "        text-align: right;\n",
       "    }\n",
       "</style>\n",
       "<table border=\"1\" class=\"dataframe\">\n",
       "  <thead>\n",
       "    <tr style=\"text-align: right;\">\n",
       "      <th></th>\n",
       "      <th>ReactorType</th>\n",
       "      <th>CoolingTime</th>\n",
       "      <th>Enrichment</th>\n",
       "      <th>Burnup</th>\n",
       "      <th>OrigenReactor</th>\n",
       "    </tr>\n",
       "  </thead>\n",
       "  <tbody>\n",
       "    <tr>\n",
       "      <th>VAN-2|EF05|WZR0058|E58-88</th>\n",
       "      <td>pwr</td>\n",
       "      <td>0.0</td>\n",
       "      <td>4.5</td>\n",
       "      <td>43520.0</td>\n",
       "      <td>Vandellos-2_PWR</td>\n",
       "    </tr>\n",
       "  </tbody>\n",
       "</table>\n",
       "</div>"
      ],
      "text/plain": [
       "                          ReactorType  CoolingTime  Enrichment   Burnup  \\\n",
       "VAN-2|EF05|WZR0058|E58-88         pwr          0.0         4.5  43520.0   \n",
       "\n",
       "                             OrigenReactor  \n",
       "VAN-2|EF05|WZR0058|E58-88  Vandellos-2_PWR  "
      ]
     },
     "execution_count": 13,
     "metadata": {},
     "output_type": "execute_result"
    }
   ],
   "source": [
    "# print labels for a 9 ratio case\n",
    "sfco.loc[sfco.index == 'VAN-2|EF05|WZR0058|E58-88', lbls]"
   ]
  },
  {
   "cell_type": "markdown",
   "metadata": {},
   "source": [
    "## (c) logpdf calcs for \"bad\" pred"
   ]
  },
  {
   "cell_type": "code",
   "execution_count": 20,
   "metadata": {},
   "outputs": [],
   "source": [
    "test_sample = brow.drop(lbls)\n",
    "test_answer = brow[lbls]\n",
    "row = XY.loc[14605].drop(lbls)\n",
    "logpdf = logpdf_calc(row, test_sample, unc)\n",
    "logpdf = pd.Series(logpdf, index=row[test_sample>0].index, name='LogPDF')"
   ]
  },
  {
   "cell_type": "code",
   "execution_count": 21,
   "metadata": {},
   "outputs": [
    {
     "data": {
      "text/plain": [
       "7.57858452439314"
      ]
     },
     "execution_count": 21,
     "metadata": {},
     "output_type": "execute_result"
    }
   ],
   "source": [
    "np.sum(logpdf)"
   ]
  },
  {
   "cell_type": "code",
   "execution_count": 22,
   "metadata": {},
   "outputs": [
    {
     "data": {
      "text/plain": [
       "268    7.578585\n",
       "Name: MaxLogLL, dtype: float64"
      ]
     },
     "execution_count": 22,
     "metadata": {},
     "output_type": "execute_result"
    }
   ],
   "source": [
    "#check match\n",
    "sfcoLL['MaxLogLL'].loc[sfcoLL['sim_idx']==bad_id]"
   ]
  },
  {
   "cell_type": "code",
   "execution_count": 23,
   "metadata": {},
   "outputs": [
    {
     "data": {
      "text/html": [
       "<div>\n",
       "<style scoped>\n",
       "    .dataframe tbody tr th:only-of-type {\n",
       "        vertical-align: middle;\n",
       "    }\n",
       "\n",
       "    .dataframe tbody tr th {\n",
       "        vertical-align: top;\n",
       "    }\n",
       "\n",
       "    .dataframe thead th {\n",
       "        text-align: right;\n",
       "    }\n",
       "</style>\n",
       "<table border=\"1\" class=\"dataframe\">\n",
       "  <thead>\n",
       "    <tr style=\"text-align: right;\">\n",
       "      <th></th>\n",
       "      <th>cs137/cs133</th>\n",
       "      <th>cs134/cs137</th>\n",
       "      <th>cs135/cs137</th>\n",
       "      <th>ba136/ba138</th>\n",
       "      <th>sm150/sm149</th>\n",
       "      <th>sm152/sm149</th>\n",
       "      <th>eu154/eu153</th>\n",
       "      <th>pu240/pu239</th>\n",
       "      <th>pu241/pu239</th>\n",
       "      <th>pu242/pu239</th>\n",
       "    </tr>\n",
       "  </thead>\n",
       "  <tbody>\n",
       "    <tr>\n",
       "      <th>14605</th>\n",
       "      <td>0.67858</td>\n",
       "      <td>0.000137</td>\n",
       "      <td>0.4421</td>\n",
       "      <td>0.002254</td>\n",
       "      <td>9.63477</td>\n",
       "      <td>4.754565</td>\n",
       "      <td>0.015806</td>\n",
       "      <td>0.065473</td>\n",
       "      <td>0.005232</td>\n",
       "      <td>0.000288</td>\n",
       "    </tr>\n",
       "    <tr>\n",
       "      <th>NPD-1|1022|B|1</th>\n",
       "      <td>0.00000</td>\n",
       "      <td>0.000000</td>\n",
       "      <td>0.0000</td>\n",
       "      <td>0.000000</td>\n",
       "      <td>0.00000</td>\n",
       "      <td>0.000000</td>\n",
       "      <td>0.000000</td>\n",
       "      <td>0.055976</td>\n",
       "      <td>0.004129</td>\n",
       "      <td>0.000314</td>\n",
       "    </tr>\n",
       "    <tr>\n",
       "      <th>LogPDF</th>\n",
       "      <td>NaN</td>\n",
       "      <td>NaN</td>\n",
       "      <td>NaN</td>\n",
       "      <td>NaN</td>\n",
       "      <td>NaN</td>\n",
       "      <td>NaN</td>\n",
       "      <td>NaN</td>\n",
       "      <td>0.594151</td>\n",
       "      <td>-1.555835</td>\n",
       "      <td>8.540268</td>\n",
       "    </tr>\n",
       "  </tbody>\n",
       "</table>\n",
       "</div>"
      ],
      "text/plain": [
       "                cs137/cs133  cs134/cs137  cs135/cs137  ba136/ba138  \\\n",
       "14605               0.67858     0.000137       0.4421     0.002254   \n",
       "NPD-1|1022|B|1      0.00000     0.000000       0.0000     0.000000   \n",
       "LogPDF                  NaN          NaN          NaN          NaN   \n",
       "\n",
       "                sm150/sm149  sm152/sm149  eu154/eu153  pu240/pu239  \\\n",
       "14605               9.63477     4.754565     0.015806     0.065473   \n",
       "NPD-1|1022|B|1      0.00000     0.000000     0.000000     0.055976   \n",
       "LogPDF                  NaN          NaN          NaN     0.594151   \n",
       "\n",
       "                pu241/pu239  pu242/pu239  \n",
       "14605              0.005232     0.000288  \n",
       "NPD-1|1022|B|1     0.004129     0.000314  \n",
       "LogPDF            -1.555835     8.540268  "
      ]
     },
     "execution_count": 23,
     "metadata": {},
     "output_type": "execute_result"
    }
   ],
   "source": [
    "pd.DataFrame([row, test_sample, logpdf])"
   ]
  },
  {
   "cell_type": "markdown",
   "metadata": {},
   "source": [
    "# Expand Calcs to Entire SFCOMPO DB"
   ]
  },
  {
   "cell_type": "code",
   "execution_count": 24,
   "metadata": {},
   "outputs": [],
   "source": [
    "logpdf_df = loop_sfco(XY, sfco, sfcoLL, unc, lbls)"
   ]
  },
  {
   "cell_type": "code",
   "execution_count": 25,
   "metadata": {},
   "outputs": [
    {
     "data": {
      "text/html": [
       "<div>\n",
       "<style scoped>\n",
       "    .dataframe tbody tr th:only-of-type {\n",
       "        vertical-align: middle;\n",
       "    }\n",
       "\n",
       "    .dataframe tbody tr th {\n",
       "        vertical-align: top;\n",
       "    }\n",
       "\n",
       "    .dataframe thead th {\n",
       "        text-align: right;\n",
       "    }\n",
       "</style>\n",
       "<table border=\"1\" class=\"dataframe\">\n",
       "  <thead>\n",
       "    <tr style=\"text-align: right;\">\n",
       "      <th></th>\n",
       "      <th>cs137/cs133</th>\n",
       "      <th>cs134/cs137</th>\n",
       "      <th>cs135/cs137</th>\n",
       "      <th>ba136/ba138</th>\n",
       "      <th>sm150/sm149</th>\n",
       "      <th>sm152/sm149</th>\n",
       "      <th>eu154/eu153</th>\n",
       "      <th>pu240/pu239</th>\n",
       "      <th>pu241/pu239</th>\n",
       "      <th>pu242/pu239</th>\n",
       "    </tr>\n",
       "  </thead>\n",
       "  <tbody>\n",
       "    <tr>\n",
       "      <th>YNK-1|E6|C-A1|G-107</th>\n",
       "      <td>NaN</td>\n",
       "      <td>NaN</td>\n",
       "      <td>NaN</td>\n",
       "      <td>NaN</td>\n",
       "      <td>NaN</td>\n",
       "      <td>NaN</td>\n",
       "      <td>NaN</td>\n",
       "      <td>3.386169</td>\n",
       "      <td>3.532635</td>\n",
       "      <td>5.215175</td>\n",
       "    </tr>\n",
       "    <tr>\n",
       "      <th>TMI-1|NJ05YU|H6|B3J</th>\n",
       "      <td>NaN</td>\n",
       "      <td>NaN</td>\n",
       "      <td>NaN</td>\n",
       "      <td>NaN</td>\n",
       "      <td>-13.286297</td>\n",
       "      <td>-3.636586</td>\n",
       "      <td>NaN</td>\n",
       "      <td>0.704379</td>\n",
       "      <td>2.609359</td>\n",
       "      <td>3.071930</td>\n",
       "    </tr>\n",
       "    <tr>\n",
       "      <th>NOV-3|RP-3371A|58|4</th>\n",
       "      <td>NaN</td>\n",
       "      <td>NaN</td>\n",
       "      <td>NaN</td>\n",
       "      <td>NaN</td>\n",
       "      <td>NaN</td>\n",
       "      <td>NaN</td>\n",
       "      <td>NaN</td>\n",
       "      <td>3.674064</td>\n",
       "      <td>4.510104</td>\n",
       "      <td>6.744375</td>\n",
       "    </tr>\n",
       "    <tr>\n",
       "      <th>GRM-1|B23|B3|K2680</th>\n",
       "      <td>NaN</td>\n",
       "      <td>NaN</td>\n",
       "      <td>NaN</td>\n",
       "      <td>NaN</td>\n",
       "      <td>NaN</td>\n",
       "      <td>NaN</td>\n",
       "      <td>NaN</td>\n",
       "      <td>2.613706</td>\n",
       "      <td>3.644666</td>\n",
       "      <td>5.094574</td>\n",
       "    </tr>\n",
       "    <tr>\n",
       "      <th>GAR-1|SA-13|E6|7</th>\n",
       "      <td>NaN</td>\n",
       "      <td>NaN</td>\n",
       "      <td>NaN</td>\n",
       "      <td>NaN</td>\n",
       "      <td>NaN</td>\n",
       "      <td>NaN</td>\n",
       "      <td>NaN</td>\n",
       "      <td>3.349305</td>\n",
       "      <td>4.298478</td>\n",
       "      <td>7.036366</td>\n",
       "    </tr>\n",
       "    <tr>\n",
       "      <th>COO-1|CZ346|ADD2966|B</th>\n",
       "      <td>NaN</td>\n",
       "      <td>NaN</td>\n",
       "      <td>NaN</td>\n",
       "      <td>NaN</td>\n",
       "      <td>NaN</td>\n",
       "      <td>NaN</td>\n",
       "      <td>NaN</td>\n",
       "      <td>3.199513</td>\n",
       "      <td>4.422056</td>\n",
       "      <td>5.702915</td>\n",
       "    </tr>\n",
       "    <tr>\n",
       "      <th>JPD-1|A-20|C3|KA-1040+660</th>\n",
       "      <td>NaN</td>\n",
       "      <td>-30.246236</td>\n",
       "      <td>NaN</td>\n",
       "      <td>NaN</td>\n",
       "      <td>NaN</td>\n",
       "      <td>NaN</td>\n",
       "      <td>NaN</td>\n",
       "      <td>3.673956</td>\n",
       "      <td>5.275301</td>\n",
       "      <td>7.443001</td>\n",
       "    </tr>\n",
       "    <tr>\n",
       "      <th>TVC-1|509-069|L11|7</th>\n",
       "      <td>NaN</td>\n",
       "      <td>NaN</td>\n",
       "      <td>NaN</td>\n",
       "      <td>NaN</td>\n",
       "      <td>NaN</td>\n",
       "      <td>NaN</td>\n",
       "      <td>NaN</td>\n",
       "      <td>3.227234</td>\n",
       "      <td>3.789009</td>\n",
       "      <td>5.206139</td>\n",
       "    </tr>\n",
       "    <tr>\n",
       "      <th>NOV-4|213|25|8</th>\n",
       "      <td>NaN</td>\n",
       "      <td>NaN</td>\n",
       "      <td>NaN</td>\n",
       "      <td>NaN</td>\n",
       "      <td>NaN</td>\n",
       "      <td>NaN</td>\n",
       "      <td>NaN</td>\n",
       "      <td>3.387765</td>\n",
       "      <td>4.021041</td>\n",
       "      <td>5.649760</td>\n",
       "    </tr>\n",
       "    <tr>\n",
       "      <th>MON-1|MTB099|H1|S5</th>\n",
       "      <td>NaN</td>\n",
       "      <td>NaN</td>\n",
       "      <td>NaN</td>\n",
       "      <td>NaN</td>\n",
       "      <td>NaN</td>\n",
       "      <td>NaN</td>\n",
       "      <td>NaN</td>\n",
       "      <td>-10.523500</td>\n",
       "      <td>2.845892</td>\n",
       "      <td>1.611120</td>\n",
       "    </tr>\n",
       "  </tbody>\n",
       "</table>\n",
       "</div>"
      ],
      "text/plain": [
       "                           cs137/cs133  cs134/cs137  cs135/cs137  ba136/ba138  \\\n",
       "YNK-1|E6|C-A1|G-107                NaN          NaN          NaN          NaN   \n",
       "TMI-1|NJ05YU|H6|B3J                NaN          NaN          NaN          NaN   \n",
       "NOV-3|RP-3371A|58|4                NaN          NaN          NaN          NaN   \n",
       "GRM-1|B23|B3|K2680                 NaN          NaN          NaN          NaN   \n",
       "GAR-1|SA-13|E6|7                   NaN          NaN          NaN          NaN   \n",
       "COO-1|CZ346|ADD2966|B              NaN          NaN          NaN          NaN   \n",
       "JPD-1|A-20|C3|KA-1040+660          NaN   -30.246236          NaN          NaN   \n",
       "TVC-1|509-069|L11|7                NaN          NaN          NaN          NaN   \n",
       "NOV-4|213|25|8                     NaN          NaN          NaN          NaN   \n",
       "MON-1|MTB099|H1|S5                 NaN          NaN          NaN          NaN   \n",
       "\n",
       "                           sm150/sm149  sm152/sm149  eu154/eu153  pu240/pu239  \\\n",
       "YNK-1|E6|C-A1|G-107                NaN          NaN          NaN     3.386169   \n",
       "TMI-1|NJ05YU|H6|B3J         -13.286297    -3.636586          NaN     0.704379   \n",
       "NOV-3|RP-3371A|58|4                NaN          NaN          NaN     3.674064   \n",
       "GRM-1|B23|B3|K2680                 NaN          NaN          NaN     2.613706   \n",
       "GAR-1|SA-13|E6|7                   NaN          NaN          NaN     3.349305   \n",
       "COO-1|CZ346|ADD2966|B              NaN          NaN          NaN     3.199513   \n",
       "JPD-1|A-20|C3|KA-1040+660          NaN          NaN          NaN     3.673956   \n",
       "TVC-1|509-069|L11|7                NaN          NaN          NaN     3.227234   \n",
       "NOV-4|213|25|8                     NaN          NaN          NaN     3.387765   \n",
       "MON-1|MTB099|H1|S5                 NaN          NaN          NaN   -10.523500   \n",
       "\n",
       "                           pu241/pu239  pu242/pu239  \n",
       "YNK-1|E6|C-A1|G-107           3.532635     5.215175  \n",
       "TMI-1|NJ05YU|H6|B3J           2.609359     3.071930  \n",
       "NOV-3|RP-3371A|58|4           4.510104     6.744375  \n",
       "GRM-1|B23|B3|K2680            3.644666     5.094574  \n",
       "GAR-1|SA-13|E6|7              4.298478     7.036366  \n",
       "COO-1|CZ346|ADD2966|B         4.422056     5.702915  \n",
       "JPD-1|A-20|C3|KA-1040+660     5.275301     7.443001  \n",
       "TVC-1|509-069|L11|7           3.789009     5.206139  \n",
       "NOV-4|213|25|8                4.021041     5.649760  \n",
       "MON-1|MTB099|H1|S5            2.845892     1.611120  "
      ]
     },
     "execution_count": 25,
     "metadata": {},
     "output_type": "execute_result"
    }
   ],
   "source": [
    "logpdf_df.sample(10)"
   ]
  },
  {
   "cell_type": "markdown",
   "metadata": {},
   "source": [
    "## Stats on Pu Isotope Ratios"
   ]
  },
  {
   "cell_type": "code",
   "execution_count": 68,
   "metadata": {
    "scrolled": true
   },
   "outputs": [
    {
     "data": {
      "image/png": "[encoded data removed]",
      "text/plain": [
       "<Figure size 432x288 with 1 Axes>"
      ]
     },
     "metadata": {
      "needs_background": "light"
     },
     "output_type": "display_data"
    }
   ],
   "source": [
    "pu = [logpdf_df['pu240/pu239'],\n",
    "      logpdf_df['pu241/pu239'],\n",
    "      logpdf_df['pu242/pu239']]\n",
    "fig, ax = plt.subplots()\n",
    "ax.set_title('LogPDF of Each Pu Isotope Ratio')\n",
    "ax.boxplot(pu, labels=['pu240/pu239', 'pu241/pu239', 'pu242/pu239'])\n",
    "ax.set_ylim(-40, 15)\n",
    "plt.show()"
   ]
  },
  {
   "cell_type": "code",
   "execution_count": 27,
   "metadata": {},
   "outputs": [
    {
     "data": {
      "text/plain": [
       "count    544.000000\n",
       "mean      -6.514987\n",
       "std       19.998108\n",
       "min     -106.368642\n",
       "25%       -6.891090\n",
       "50%        2.562300\n",
       "75%        3.261939\n",
       "max        4.801567\n",
       "Name: pu240/pu239, dtype: float64"
      ]
     },
     "execution_count": 27,
     "metadata": {},
     "output_type": "execute_result"
    }
   ],
   "source": [
    "logpdf_df['pu240/pu239'].describe()"
   ]
  },
  {
   "cell_type": "code",
   "execution_count": 28,
   "metadata": {},
   "outputs": [
    {
     "data": {
      "text/plain": [
       "count    543.000000\n",
       "mean      -1.641779\n",
       "std       20.742276\n",
       "min     -128.179832\n",
       "25%        1.571448\n",
       "50%        3.370135\n",
       "75%        3.820741\n",
       "max        7.535007\n",
       "Name: pu241/pu239, dtype: float64"
      ]
     },
     "execution_count": 28,
     "metadata": {},
     "output_type": "execute_result"
    }
   ],
   "source": [
    "logpdf_df['pu241/pu239'].describe()"
   ]
  },
  {
   "cell_type": "code",
   "execution_count": 29,
   "metadata": {},
   "outputs": [
    {
     "data": {
      "text/plain": [
       "count    544.000000\n",
       "mean       2.436788\n",
       "std        9.196064\n",
       "min      -96.145311\n",
       "25%        2.697182\n",
       "50%        4.294617\n",
       "75%        5.613382\n",
       "max       10.632926\n",
       "Name: pu242/pu239, dtype: float64"
      ]
     },
     "execution_count": 29,
     "metadata": {},
     "output_type": "execute_result"
    }
   ],
   "source": [
    "logpdf_df['pu242/pu239'].describe()"
   ]
  },
  {
   "cell_type": "markdown",
   "metadata": {},
   "source": [
    "## Stats on Cs Isotope Ratios"
   ]
  },
  {
   "cell_type": "code",
   "execution_count": 69,
   "metadata": {},
   "outputs": [
    {
     "data": {
      "image/png": "[encoded data removed]",
      "text/plain": [
       "<Figure size 432x288 with 1 Axes>"
      ]
     },
     "metadata": {
      "needs_background": "light"
     },
     "output_type": "display_data"
    }
   ],
   "source": [
    "cs = [logpdf_df['cs137/cs133'],\n",
    "      logpdf_df['cs134/cs137'],\n",
    "      logpdf_df['cs135/cs137']]\n",
    "fig, ax = plt.subplots()\n",
    "ax.set_title('LogPDF of Each Cs Isotope Ratio')\n",
    "ax.boxplot(cs, labels=['cs137/cs133', 'cs134/cs137', 'cs135/cs137'])\n",
    "#ax.set_ylim(-40, 15)\n",
    "plt.show()"
   ]
  },
  {
   "cell_type": "code",
   "execution_count": 70,
   "metadata": {},
   "outputs": [
    {
     "data": {
      "text/plain": [
       "count      45.000000\n",
       "mean     -180.031390\n",
       "std      1025.921941\n",
       "min     -6789.207620\n",
       "25%        -2.383887\n",
       "50%         1.468763\n",
       "75%         2.058430\n",
       "max         2.365249\n",
       "Name: cs137/cs133, dtype: float64"
      ]
     },
     "execution_count": 70,
     "metadata": {},
     "output_type": "execute_result"
    }
   ],
   "source": [
    "logpdf_df['cs137/cs133'].describe()"
   ]
  },
  {
   "cell_type": "code",
   "execution_count": 71,
   "metadata": {
    "scrolled": false
   },
   "outputs": [
    {
     "data": {
      "text/plain": [
       "count    133.000000\n",
       "mean      -6.879995\n",
       "std       20.992119\n",
       "min     -147.531583\n",
       "25%      -12.617056\n",
       "50%       -0.745675\n",
       "75%        5.016665\n",
       "max        8.388282\n",
       "Name: cs134/cs137, dtype: float64"
      ]
     },
     "execution_count": 71,
     "metadata": {},
     "output_type": "execute_result"
    }
   ],
   "source": [
    "logpdf_df['cs134/cs137'].describe()"
   ]
  },
  {
   "cell_type": "code",
   "execution_count": 72,
   "metadata": {},
   "outputs": [
    {
     "data": {
      "text/plain": [
       "count     40.000000\n",
       "mean     -27.931060\n",
       "std       27.555771\n",
       "min     -111.785441\n",
       "25%      -41.708223\n",
       "50%      -24.461021\n",
       "75%       -4.510232\n",
       "max        3.409395\n",
       "Name: cs135/cs137, dtype: float64"
      ]
     },
     "execution_count": 72,
     "metadata": {},
     "output_type": "execute_result"
    }
   ],
   "source": [
    "logpdf_df['cs135/cs137'].describe()"
   ]
  },
  {
   "cell_type": "markdown",
   "metadata": {},
   "source": [
    "## Stats on Sm/Eu Isotope Ratios"
   ]
  },
  {
   "cell_type": "code",
   "execution_count": 74,
   "metadata": {},
   "outputs": [
    {
     "data": {
      "image/png": "[encoded data removed]",
      "text/plain": [
       "<Figure size 432x288 with 1 Axes>"
      ]
     },
     "metadata": {
      "needs_background": "light"
     },
     "output_type": "display_data"
    }
   ],
   "source": [
    "last3 = [logpdf_df['sm150/sm149'],\n",
    "         logpdf_df['sm152/sm149'],\n",
    "         logpdf_df['eu154/eu153']]\n",
    "fig, ax = plt.subplots()\n",
    "ax.set_title('LogPDF of Each Sm/Eu Isotope Ratio')\n",
    "ax.boxplot(cs, labels=['sm150/sm149', 'sm152/sm149', 'eu154/eu153'])\n",
    "plt.show()"
   ]
  },
  {
   "cell_type": "code",
   "execution_count": 75,
   "metadata": {},
   "outputs": [
    {
     "data": {
      "text/plain": [
       "count    105.000000\n",
       "mean      -7.958776\n",
       "std       10.296818\n",
       "min      -70.498442\n",
       "25%       -8.685561\n",
       "50%       -4.832084\n",
       "75%       -3.161528\n",
       "max       -1.763939\n",
       "Name: sm150/sm149, dtype: float64"
      ]
     },
     "execution_count": 75,
     "metadata": {},
     "output_type": "execute_result"
    }
   ],
   "source": [
    "logpdf_df['sm150/sm149'].describe()"
   ]
  },
  {
   "cell_type": "code",
   "execution_count": 76,
   "metadata": {},
   "outputs": [
    {
     "data": {
      "text/plain": [
       "count    105.000000\n",
       "mean     -10.076113\n",
       "std       12.685425\n",
       "min      -86.321396\n",
       "25%      -10.867071\n",
       "50%       -5.882239\n",
       "75%       -3.501622\n",
       "max       -1.080357\n",
       "Name: sm152/sm149, dtype: float64"
      ]
     },
     "execution_count": 76,
     "metadata": {},
     "output_type": "execute_result"
    }
   ],
   "source": [
    "logpdf_df['sm152/sm149'].describe()"
   ]
  },
  {
   "cell_type": "code",
   "execution_count": 77,
   "metadata": {},
   "outputs": [
    {
     "data": {
      "text/plain": [
       "count    45.000000\n",
       "mean     -9.164255\n",
       "std      12.323654\n",
       "min     -44.838226\n",
       "25%     -19.010468\n",
       "50%      -5.105708\n",
       "75%       0.373877\n",
       "max       4.451885\n",
       "Name: eu154/eu153, dtype: float64"
      ]
     },
     "execution_count": 77,
     "metadata": {},
     "output_type": "execute_result"
    }
   ],
   "source": [
    "logpdf_df['eu154/eu153'].describe()"
   ]
  },
  {
   "cell_type": "code",
   "execution_count": null,
   "metadata": {},
   "outputs": [],
   "source": []
  }
 ],
 "metadata": {
  "kernelspec": {
   "display_name": "Python 3",
   "language": "python",
   "name": "python3"
  },
  "language_info": {
   "codemirror_mode": {
    "name": "ipython",
    "version": 3
   },
   "file_extension": ".py",
   "mimetype": "text/x-python",
   "name": "python",
   "nbconvert_exporter": "python",
   "pygments_lexer": "ipython3",
   "version": "3.6.9"
  }
 },
 "nbformat": 4,
 "nbformat_minor": 2
}
